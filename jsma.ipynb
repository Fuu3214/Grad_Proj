{
 "cells": [
  {
   "cell_type": "code",
   "execution_count": 1,
   "metadata": {},
   "outputs": [
    {
     "name": "stdout",
     "output_type": "stream",
     "text": [
      "\n",
      "WARNING: The TensorFlow contrib module will not be included in TensorFlow 2.0.\n",
      "For more information, please see:\n",
      "  * https://github.com/tensorflow/community/blob/master/rfcs/20180907-contrib-sunset.md\n",
      "  * https://github.com/tensorflow/addons\n",
      "If you depend on functionality not listed there, please file an issue.\n",
      "\n"
     ]
    }
   ],
   "source": [
    "\"\"\"\n",
    "This tutorial shows how to generate adversarial examples\n",
    "using JSMA in white-box setting.\n",
    "The original paper can be found at:\n",
    "https://arxiv.org/abs/1511.07528\n",
    "\"\"\"\n",
    "# pylint: disable=missing-docstring\n",
    "from __future__ import absolute_import\n",
    "from __future__ import division\n",
    "from __future__ import print_function\n",
    "from __future__ import unicode_literals\n",
    "\n",
    "import logging\n",
    "import numpy as np\n",
    "from six.moves import xrange\n",
    "import tensorflow as tf\n",
    "\n",
    "from cleverhans.attacks import FastGradientMethod\n",
    "from cleverhans.loss import CrossEntropy\n",
    "from cleverhans.attacks import CarliniWagnerL2\n",
    "from cleverhans.attacks import SaliencyMapMethod\n",
    "from cleverhans.attacks import DeepFool\n",
    "from cleverhans.utils import other_classes, set_log_level\n",
    "from cleverhans.utils import pair_visual, grid_visual, AccuracyReport\n",
    "from cleverhans.utils_tf import model_eval, model_argmax\n",
    "\n",
    "import tensorflow as tf\n",
    "from tensorflow.examples.tutorials.mnist import input_data\n",
    "from cleverhans_model import CleverhansModel\n",
    "from model import Model as My_model\n",
    "\n",
    "from tensorflow.python import pywrap_tensorflow\n",
    "import math\n",
    "from random import choice\n",
    "\n",
    "import matplotlib.pyplot as plt"
   ]
  },
  {
   "cell_type": "code",
   "execution_count": 2,
   "metadata": {},
   "outputs": [
    {
     "name": "stdout",
     "output_type": "stream",
     "text": [
      "WARNING:tensorflow:From <ipython-input-2-25bf4d594428>:7: read_data_sets (from tensorflow.contrib.learn.python.learn.datasets.mnist) is deprecated and will be removed in a future version.\n",
      "Instructions for updating:\n",
      "Please use alternatives such as official/mnist/dataset.py from tensorflow/models.\n",
      "WARNING:tensorflow:From /home/xdjf/anaconda3/envs/my_env/lib/python3.6/site-packages/tensorflow/contrib/learn/python/learn/datasets/mnist.py:260: maybe_download (from tensorflow.contrib.learn.python.learn.datasets.base) is deprecated and will be removed in a future version.\n",
      "Instructions for updating:\n",
      "Please write your own downloading logic.\n",
      "WARNING:tensorflow:From /home/xdjf/anaconda3/envs/my_env/lib/python3.6/site-packages/tensorflow/contrib/learn/python/learn/datasets/mnist.py:262: extract_images (from tensorflow.contrib.learn.python.learn.datasets.mnist) is deprecated and will be removed in a future version.\n",
      "Instructions for updating:\n",
      "Please use tf.data to implement this functionality.\n",
      "Extracting MNIST_data/train-images-idx3-ubyte.gz\n",
      "WARNING:tensorflow:From /home/xdjf/anaconda3/envs/my_env/lib/python3.6/site-packages/tensorflow/contrib/learn/python/learn/datasets/mnist.py:267: extract_labels (from tensorflow.contrib.learn.python.learn.datasets.mnist) is deprecated and will be removed in a future version.\n",
      "Instructions for updating:\n",
      "Please use tf.data to implement this functionality.\n",
      "Extracting MNIST_data/train-labels-idx1-ubyte.gz\n",
      "WARNING:tensorflow:From /home/xdjf/anaconda3/envs/my_env/lib/python3.6/site-packages/tensorflow/contrib/learn/python/learn/datasets/mnist.py:110: dense_to_one_hot (from tensorflow.contrib.learn.python.learn.datasets.mnist) is deprecated and will be removed in a future version.\n",
      "Instructions for updating:\n",
      "Please use tf.one_hot on tensors.\n",
      "Extracting MNIST_data/t10k-images-idx3-ubyte.gz\n",
      "Extracting MNIST_data/t10k-labels-idx1-ubyte.gz\n",
      "WARNING:tensorflow:From /home/xdjf/anaconda3/envs/my_env/lib/python3.6/site-packages/tensorflow/contrib/learn/python/learn/datasets/mnist.py:290: DataSet.__init__ (from tensorflow.contrib.learn.python.learn.datasets.mnist) is deprecated and will be removed in a future version.\n",
      "Instructions for updating:\n",
      "Please use alternatives such as official/mnist/dataset.py from tensorflow/models.\n"
     ]
    }
   ],
   "source": [
    "model_dir = \"./models/nat\"\n",
    "\n",
    "num_examples = 10\n",
    "batch_size = 2\n",
    "num_batches = int(math.ceil(num_examples / batch_size))\n",
    "\n",
    "mnist = input_data.read_data_sets('MNIST_data', one_hot=True)\n",
    "x_test = mnist.test.images\n",
    "y_test = mnist.test.labels"
   ]
  },
  {
   "cell_type": "code",
   "execution_count": 3,
   "metadata": {},
   "outputs": [],
   "source": [
    "def classify(sess, img):\n",
    "    x = tf.placeholder(tf.float32, shape = [None, 784])\n",
    "    c_model.fprop(x)\n",
    "    return sess.run(c_model.get_pred(), feed_dict = {x: img})\n",
    "def plot(img):\n",
    "    plt.imshow(np.resize(img,[28,28]), cmap='Greys_r')"
   ]
  },
  {
   "cell_type": "code",
   "execution_count": 4,
   "metadata": {},
   "outputs": [],
   "source": [
    "def init_graph(model_dir):\n",
    "    tf.reset_default_graph()\n",
    "    # print(scope_vars)\n",
    "    # x = tf.placeholder(tf.float32, shape = [None, 784])\n",
    "\n",
    "    model = My_model()\n",
    "    c_model = CleverhansModel('CNN', 10, model)\n",
    "    checkpoint = tf.train.latest_checkpoint(model_dir)\n",
    "    reader=pywrap_tensorflow.NewCheckpointReader(checkpoint)\n",
    "    saver = tf.train.Saver()\n",
    "    config = tf.ConfigProto()\n",
    "    config.log_device_placement=False\n",
    "    config.allow_soft_placement=True\n",
    "    config.gpu_options.allow_growth=True\n",
    "    session = tf.Session(config=config)\n",
    "    session.run(tf.global_variables_initializer())\n",
    "    saver.restore(session, checkpoint)\n",
    "    return session, c_model\n",
    "\n",
    "def batch_attack(data, attack, **params):\n",
    "    x_adv = []\n",
    "    for ibatch in range(num_batches):\n",
    "        bstart = ibatch * batch_size\n",
    "        bend = min(bstart + batch_size, num_examples)\n",
    "        print('batch size: {}'.format(bend - bstart))\n",
    "\n",
    "        x_batch = data[bstart:bend, :]\n",
    "\n",
    "        x_batch_adv = attack.generate_np(x_batch, **params)\n",
    "        \n",
    "        x_adv = x_adv + x_batch_adv.tolist()\n",
    "        \n",
    "    return x_adv\n",
    "\n",
    "def save_npy(algm, x_adv, filename = '/adv.npy'):\n",
    "    path = './adv_test/' + algm + filename\n",
    "    x_adv = np.concatenate(x_adv, axis=0)\n",
    "    np.save(path, x_adv)\n",
    "    "
   ]
  },
  {
   "cell_type": "code",
   "execution_count": 5,
   "metadata": {},
   "outputs": [
    {
     "name": "stdout",
     "output_type": "stream",
     "text": [
      "WARNING:tensorflow:From /home/xdjf/anaconda3/envs/my_env/lib/python3.6/site-packages/tensorflow/python/framework/op_def_library.py:263: colocate_with (from tensorflow.python.framework.ops) is deprecated and will be removed in a future version.\n",
      "Instructions for updating:\n",
      "Colocations handled automatically by placer.\n",
      "WARNING:tensorflow:From /home/xdjf/anaconda3/envs/my_env/lib/python3.6/site-packages/tensorflow/python/training/saver.py:1266: checkpoint_exists (from tensorflow.python.training.checkpoint_management) is deprecated and will be removed in a future version.\n",
      "Instructions for updating:\n",
      "Use standard file APIs to check for files with this prefix.\n",
      "INFO:tensorflow:Restoring parameters from ./models/nat/checkpoint-7800\n"
     ]
    }
   ],
   "source": [
    "session, c_model = init_graph(model_dir)"
   ]
  },
  {
   "cell_type": "code",
   "execution_count": 6,
   "metadata": {},
   "outputs": [
    {
     "name": "stderr",
     "output_type": "stream",
     "text": [
      "[INFO 2019-05-06 09:54:49,525 cleverhans] Constructing new graph for attack SaliencyMapMethod\n"
     ]
    },
    {
     "name": "stdout",
     "output_type": "stream",
     "text": [
      "Crafting 10 adversarial examples\n",
      "--------------------------------------\n",
      "Attacking input 1/10\n",
      "WARNING:tensorflow:From /home/xdjf/anaconda3/envs/my_env/lib/python3.6/site-packages/cleverhans/attacks/__init__.py:283: to_float (from tensorflow.python.ops.math_ops) is deprecated and will be removed in a future version.\n",
      "Instructions for updating:\n",
      "Use tf.cast instead.\n",
      "WARNING:tensorflow:From /home/xdjf/anaconda3/envs/my_env/lib/python3.6/site-packages/cleverhans/attacks/__init__.py:950: py_func (from tensorflow.python.ops.script_ops) is deprecated and will be removed in a future version.\n",
      "Instructions for updating:\n",
      "tf.py_func is deprecated in TF V2. Instead, use\n",
      "    tf.py_function, which takes a python function which manipulates tf eager\n",
      "    tensors instead of numpy arrays. It's easy to convert a tf eager tensor to\n",
      "    an ndarray (just call tensor.numpy()) but having access to eager tensors\n",
      "    means `tf.py_function`s can use accelerators such as GPUs as well as\n",
      "    being differentiable using a gradient tape.\n",
      "    \n",
      "--------------------------------------\n",
      "Attacking input 2/10\n",
      "--------------------------------------\n",
      "Attacking input 3/10\n",
      "--------------------------------------\n",
      "Attacking input 4/10\n",
      "--------------------------------------\n",
      "Attacking input 5/10\n",
      "--------------------------------------\n",
      "Attacking input 6/10\n",
      "--------------------------------------\n",
      "Attacking input 7/10\n",
      "--------------------------------------\n",
      "Attacking input 8/10\n",
      "--------------------------------------\n",
      "Attacking input 9/10\n",
      "--------------------------------------\n",
      "Attacking input 10/10\n"
     ]
    }
   ],
   "source": [
    "###########################################################################\n",
    "# Craft adversarial examples using the Jacobian-based saliency map approach\n",
    "###########################################################################\n",
    "\n",
    "# y = tf.placeholder(tf.int64, shape = [None])\n",
    "\n",
    "print('Crafting ' + str(num_examples) +\n",
    "    ' adversarial examples')\n",
    "\n",
    "jsma = SaliencyMapMethod(c_model, sess=session)\n",
    "jsma_params = {'theta': 1., 'gamma': 0.1,\n",
    "             'clip_min': 0., 'clip_max': 1.,\n",
    "             'y_target': None}\n",
    "\n",
    "x_adv = [] # adv accumulator\n",
    "\n",
    "for sample_ind in xrange(0, num_examples):\n",
    "    print('--------------------------------------')\n",
    "    print('Attacking input %i/%i' % (sample_ind + 1, num_examples))\n",
    "    sample = x_test[sample_ind:(sample_ind + 1)]\n",
    "    adv = jsma.generate_np(sample, **jsma_params)\n",
    "    x_adv.append(adv)\n",
    "    \n",
    "save_npy('jsma', x_adv)\n",
    "session.close()"
   ]
  },
  {
   "cell_type": "code",
   "execution_count": 7,
   "metadata": {},
   "outputs": [
    {
     "name": "stdout",
     "output_type": "stream",
     "text": [
      "INFO:tensorflow:Restoring parameters from ./models/nat/checkpoint-7800\n"
     ]
    }
   ],
   "source": [
    "session, c_model = init_graph(model_dir)"
   ]
  },
  {
   "cell_type": "code",
   "execution_count": 8,
   "metadata": {},
   "outputs": [
    {
     "name": "stderr",
     "output_type": "stream",
     "text": [
      "[INFO 2019-05-06 09:54:59,564 cleverhans] Constructing new graph for attack CarliniWagnerL2\n"
     ]
    },
    {
     "name": "stdout",
     "output_type": "stream",
     "text": [
      "Iterating over 5 batches\n",
      "Crafting 10 adversarial examples\n",
      "This could take some time ...\n",
      "batch size: 2\n",
      "WARNING:tensorflow:From /home/xdjf/anaconda3/envs/my_env/lib/python3.6/site-packages/tensorflow/python/ops/math_ops.py:3066: to_int32 (from tensorflow.python.ops.math_ops) is deprecated and will be removed in a future version.\n",
      "Instructions for updating:\n",
      "Use tf.cast instead.\n",
      "WARNING:tensorflow:From /home/xdjf/anaconda3/envs/my_env/lib/python3.6/site-packages/tensorflow/python/ops/math_grad.py:102: div (from tensorflow.python.ops.math_ops) is deprecated and will be removed in a future version.\n",
      "Instructions for updating:\n",
      "Deprecated in favor of operator or tf.math.divide.\n",
      "batch size: 2\n",
      "batch size: 2\n",
      "batch size: 2\n",
      "batch size: 2\n"
     ]
    }
   ],
   "source": [
    "LEARNING_RATE = .001\n",
    "CW_LEARNING_RATE = .2\n",
    "ATTACK_ITERATIONS = 100\n",
    "\n",
    "print('Iterating over {} batches'.format(num_batches))\n",
    "\n",
    "# x = tf.placeholder(tf.float32, shape = [None, 784])\n",
    "# y = tf.placeholder(tf.int64, shape = [None])\n",
    "\n",
    "###########################################################################\n",
    "# Craft adversarial examples using Carlini and Wagner's approach\n",
    "###########################################################################\n",
    "\n",
    "print('Crafting ' + str(num_examples) + ' adversarial examples')\n",
    "print(\"This could take some time ...\")\n",
    "\n",
    "# Instantiate a CW attack object\n",
    "cw = CarliniWagnerL2(c_model, sess=session)\n",
    "\n",
    "cw_params = {'binary_search_steps': 1,\n",
    "               \"y_target\": None,\n",
    "               'max_iterations': ATTACK_ITERATIONS,\n",
    "               'learning_rate': CW_LEARNING_RATE,\n",
    "               'batch_size': batch_size,\n",
    "               'initial_const': 10}\n",
    "\n",
    "x_adv = batch_attack(x_test, cw, **cw_params)\n",
    "save_npy('cw', x_adv)\n",
    "session.close()"
   ]
  },
  {
   "cell_type": "code",
   "execution_count": 11,
   "metadata": {},
   "outputs": [
    {
     "name": "stdout",
     "output_type": "stream",
     "text": [
      "INFO:tensorflow:Restoring parameters from ./models/nat/checkpoint-7800\n"
     ]
    }
   ],
   "source": [
    "session, c_model = init_graph(model_dir)"
   ]
  },
  {
   "cell_type": "code",
   "execution_count": 12,
   "metadata": {},
   "outputs": [
    {
     "name": "stderr",
     "output_type": "stream",
     "text": [
      "[INFO 2019-05-06 09:59:12,515 cleverhans] Constructing new graph for attack FastGradientMethod\n"
     ]
    },
    {
     "name": "stdout",
     "output_type": "stream",
     "text": [
      "Crafting 10 adversarial examples\n",
      "batch size: 2\n"
     ]
    },
    {
     "name": "stderr",
     "output_type": "stream",
     "text": [
      "[INFO 2019-05-06 09:59:12,958 cleverhans] Constructing new graph for attack FastGradientMethod\n"
     ]
    },
    {
     "name": "stdout",
     "output_type": "stream",
     "text": [
      "batch size: 2\n",
      "batch size: 2\n",
      "batch size: 2\n",
      "batch size: 2\n",
      "Crafting 10 adversarial examples\n",
      "batch size: 2\n"
     ]
    },
    {
     "name": "stderr",
     "output_type": "stream",
     "text": [
      "[INFO 2019-05-06 09:59:13,407 cleverhans] Constructing new graph for attack FastGradientMethod\n"
     ]
    },
    {
     "name": "stdout",
     "output_type": "stream",
     "text": [
      "batch size: 2\n",
      "batch size: 2\n",
      "batch size: 2\n",
      "batch size: 2\n",
      "Crafting 10 adversarial examples\n",
      "batch size: 2\n",
      "batch size: 2\n",
      "batch size: 2\n",
      "batch size: 2\n",
      "batch size: 2\n"
     ]
    }
   ],
   "source": [
    "epsilon = [0.1,0.2,0.3]\n",
    "for i in range(3):\n",
    "    fgsm_params = {\n",
    "      'eps': epsilon[i],\n",
    "      'clip_min': 0.,\n",
    "      'clip_max': 1.\n",
    "    }\n",
    "\n",
    "    # Set TF random seed to improve reproducibility\n",
    "    tf.set_random_seed(2333)\n",
    "\n",
    "    # x = tf.placeholder(tf.float32, shape = [None, 784])\n",
    "    # y = tf.placeholder(tf.int64, shape = [None])\n",
    "\n",
    "    ###########################################################################\n",
    "    # Craft adversarial examples using FGSM\n",
    "    ###########################################################################\n",
    "\n",
    "    print('Crafting ' + str(num_examples) + ' adversarial examples')\n",
    "\n",
    "    fgsm = FastGradientMethod(c_model, sess=session)\n",
    "    x_adv = batch_attack(x_test, fgsm, **fgsm_params)\n",
    "    save_npy('fgsm/0' + str(i+1) + '/', x_adv)\n",
    "session.close()"
   ]
  },
  {
   "cell_type": "code",
   "execution_count": 13,
   "metadata": {},
   "outputs": [
    {
     "name": "stdout",
     "output_type": "stream",
     "text": [
      "INFO:tensorflow:Restoring parameters from ./models/nat/checkpoint-7800\n"
     ]
    }
   ],
   "source": [
    "session, c_model = init_graph(model_dir)"
   ]
  },
  {
   "cell_type": "code",
   "execution_count": 14,
   "metadata": {},
   "outputs": [
    {
     "name": "stderr",
     "output_type": "stream",
     "text": [
      "[INFO 2019-05-06 09:59:16,079 cleverhans] Constructing new graph for attack DeepFool\n"
     ]
    },
    {
     "name": "stdout",
     "output_type": "stream",
     "text": [
      "Crafting 10 adversarial examples\n",
      "batch size: 2\n"
     ]
    },
    {
     "name": "stderr",
     "output_type": "stream",
     "text": [
      "[INFO 2019-05-06 09:59:17,820 cleverhans] Attack result at iteration 5 is [7 2]\n",
      "[INFO 2019-05-06 09:59:17,877 cleverhans] Attack result at iteration 10 is [7 2]\n",
      "[INFO 2019-05-06 09:59:17,914 cleverhans] Attack result at iteration 13 is [3 1]\n",
      "[INFO 2019-05-06 09:59:17,915 cleverhans] 2 out of 2 become adversarial examples at iteration 13\n",
      "[INFO 2019-05-06 09:59:17,971 cleverhans] Attack result at iteration 5 is [1 0]\n",
      "[INFO 2019-05-06 09:59:18,025 cleverhans] Attack result at iteration 10 is [1 0]\n",
      "[INFO 2019-05-06 09:59:18,076 cleverhans] Attack result at iteration 15 is [8 0]\n",
      "[INFO 2019-05-06 09:59:18,108 cleverhans] Attack result at iteration 18 is [8 2]\n",
      "[INFO 2019-05-06 09:59:18,109 cleverhans] 2 out of 2 become adversarial examples at iteration 18\n"
     ]
    },
    {
     "name": "stdout",
     "output_type": "stream",
     "text": [
      "batch size: 2\n",
      "batch size: 2\n"
     ]
    },
    {
     "name": "stderr",
     "output_type": "stream",
     "text": [
      "[INFO 2019-05-06 09:59:18,166 cleverhans] Attack result at iteration 5 is [4 1]\n",
      "[INFO 2019-05-06 09:59:18,221 cleverhans] Attack result at iteration 10 is [9 1]\n",
      "[INFO 2019-05-06 09:59:18,242 cleverhans] Attack result at iteration 12 is [9 7]\n",
      "[INFO 2019-05-06 09:59:18,243 cleverhans] 2 out of 2 become adversarial examples at iteration 12\n",
      "[INFO 2019-05-06 09:59:18,299 cleverhans] Attack result at iteration 5 is [4 9]\n",
      "[INFO 2019-05-06 09:59:18,353 cleverhans] Attack result at iteration 10 is [8 9]\n",
      "[INFO 2019-05-06 09:59:18,374 cleverhans] Attack result at iteration 12 is [8 4]\n",
      "[INFO 2019-05-06 09:59:18,375 cleverhans] 2 out of 2 become adversarial examples at iteration 12\n",
      "[INFO 2019-05-06 09:59:18,434 cleverhans] Attack result at iteration 5 is [5 9]\n"
     ]
    },
    {
     "name": "stdout",
     "output_type": "stream",
     "text": [
      "batch size: 2\n",
      "batch size: 2\n"
     ]
    },
    {
     "name": "stderr",
     "output_type": "stream",
     "text": [
      "[INFO 2019-05-06 09:59:18,487 cleverhans] Attack result at iteration 10 is [5 7]\n",
      "[INFO 2019-05-06 09:59:18,520 cleverhans] Attack result at iteration 13 is [6 7]\n",
      "[INFO 2019-05-06 09:59:18,521 cleverhans] 2 out of 2 become adversarial examples at iteration 13\n"
     ]
    }
   ],
   "source": [
    "\n",
    "###########################################################################\n",
    "# Craft adversarial examples using FGSM\n",
    "###########################################################################\n",
    "\n",
    "print('Crafting ' + str(num_examples) + ' adversarial examples')\n",
    "\n",
    "deepfool = DeepFool(c_model, sess=session)\n",
    "x_adv = batch_attack(x_test, deepfool)\n",
    "save_npy('deepfool', x_adv)\n",
    "\n",
    "session.close()"
   ]
  },
  {
   "cell_type": "code",
   "execution_count": null,
   "metadata": {},
   "outputs": [],
   "source": []
  }
 ],
 "metadata": {
  "kernelspec": {
   "display_name": "Python 3",
   "language": "python",
   "name": "python3"
  },
  "language_info": {
   "codemirror_mode": {
    "name": "ipython",
    "version": 3
   },
   "file_extension": ".py",
   "mimetype": "text/x-python",
   "name": "python",
   "nbconvert_exporter": "python",
   "pygments_lexer": "ipython3",
   "version": "3.6.8"
  }
 },
 "nbformat": 4,
 "nbformat_minor": 2
}
