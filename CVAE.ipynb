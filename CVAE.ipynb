{
 "cells": [
  {
   "cell_type": "code",
   "execution_count": 54,
   "metadata": {},
   "outputs": [],
   "source": [
    "import tensorflow as tf\n",
    "import numpy as np\n",
    "from tensorflow.examples.tutorials.mnist import input_data\n",
    "import os\n",
    "import vae"
   ]
  },
  {
   "cell_type": "code",
   "execution_count": 94,
   "metadata": {},
   "outputs": [
    {
     "name": "stdout",
     "output_type": "stream",
     "text": [
      "Extracting MNIST_data/train-images-idx3-ubyte.gz\n",
      "Extracting MNIST_data/train-labels-idx1-ubyte.gz\n",
      "Extracting MNIST_data/t10k-images-idx3-ubyte.gz\n",
      "Extracting MNIST_data/t10k-labels-idx1-ubyte.gz\n"
     ]
    }
   ],
   "source": [
    "model_dir = 'models/cvae'\n",
    "train_path = \"./features/01/feature_attributions.npy\"\n",
    "# Setting up the data and the model\n",
    "feature_attributions = np.load(train_path)\n",
    "mnist = input_data.read_data_sets('MNIST_data', one_hot=False)\n",
    "labels = mnist.train.labels\n",
    "train_total_data = np.column_stack((feature_attributions,labels))"
   ]
  },
  {
   "cell_type": "code",
   "execution_count": 95,
   "metadata": {},
   "outputs": [
    {
     "data": {
      "text/plain": [
       "0.0"
      ]
     },
     "execution_count": 95,
     "metadata": {},
     "output_type": "execute_result"
    }
   ],
   "source": [
    "np.max(labels - train_total_data[:,-1])"
   ]
  },
  {
   "cell_type": "code",
   "execution_count": 96,
   "metadata": {},
   "outputs": [],
   "source": [
    "dim_x = 784\n",
    "dim_y = 10\n",
    "dim_z = 2\n",
    "n_hidden = 500\n",
    "learn_rate = 1e-3\n",
    "\n",
    "num_examples = mnist.train.num_examples\n",
    "n_epochs = 50\n",
    "batch_size = 50\n",
    "total_batch = int(num_examples / batch_size)\n",
    "\n",
    "ADD_NOISE = True\n",
    "\n"
   ]
  },
  {
   "cell_type": "code",
   "execution_count": 98,
   "metadata": {},
   "outputs": [],
   "source": [
    "tf.reset_default_graph() \n",
    "\"\"\" build graph \"\"\"\n",
    "# input placeholders\n",
    "# In denoising-autoencoder, x_hat == x + noise, otherwise x_hat == x\n",
    "x_hat = tf.placeholder(tf.float32, shape=[None, dim_x], name='input_img')\n",
    "x = tf.placeholder(tf.float32, shape=[None, dim_x], name='target_img')\n",
    "y = tf.placeholder(tf.int32, shape=[None], name='target_labels')\n",
    "y_one_hot = tf.one_hot(indices = y, depth=dim_y)\n",
    "\n",
    "# dropout\n",
    "keep_prob = tf.placeholder(tf.float32, name='keep_prob')\n",
    "\n",
    "# input for PMLR\n",
    "z_in = tf.placeholder(tf.float32, shape=[None, dim_z], name='latent_variable')\n",
    "fack_id_in = tf.placeholder(tf.float32, shape=[None, dim_y], name='latent_variable') # condition\n",
    "\n",
    "# network architecture\n",
    "x_, z, loss, neg_marginal_likelihood, KL_divergence = vae.autoencoder(x_hat, x, y_one_hot, dim_x, dim_z, n_hidden, keep_prob)\n",
    "\n",
    "global_step = tf.contrib.framework.get_or_create_global_step()\n",
    "\n",
    "# optimization\n",
    "train_op = tf.train.AdamOptimizer(learn_rate).minimize(loss, global_step=global_step)\n",
    "\n",
    "saver = tf.train.Saver(max_to_keep=3)"
   ]
  },
  {
   "cell_type": "code",
   "execution_count": 105,
   "metadata": {},
   "outputs": [
    {
     "name": "stdout",
     "output_type": "stream",
     "text": [
      "training step 0: L_tot 631.86 L_likelihood 629.89 L_divergence 1.97\n",
      "training step 300: L_tot 224.96 L_likelihood 220.65 L_divergence 4.32\n",
      "training step 600: L_tot 218.71 L_likelihood 218.26 L_divergence 0.45\n",
      "training step 900: L_tot 217.88 L_likelihood 217.56 L_divergence 0.32\n",
      "training step 1200: L_tot 216.60 L_likelihood 216.26 L_divergence 0.34\n",
      "training step 1500: L_tot 217.76 L_likelihood 217.52 L_divergence 0.24\n",
      "training step 1800: L_tot 216.87 L_likelihood 216.59 L_divergence 0.28\n",
      "training step 2100: L_tot 216.93 L_likelihood 216.67 L_divergence 0.26\n",
      "training step 2400: L_tot 216.45 L_likelihood 216.29 L_divergence 0.16\n",
      "training step 2700: L_tot 216.06 L_likelihood 215.90 L_divergence 0.16\n",
      "training step 3000: L_tot 217.25 L_likelihood 217.04 L_divergence 0.21\n",
      "training step 3300: L_tot 215.18 L_likelihood 215.03 L_divergence 0.15\n",
      "training step 3600: L_tot 216.29 L_likelihood 216.16 L_divergence 0.13\n",
      "training step 3900: L_tot 216.20 L_likelihood 216.08 L_divergence 0.12\n",
      "training step 4200: L_tot 216.48 L_likelihood 216.41 L_divergence 0.08\n",
      "training step 4500: L_tot 215.24 L_likelihood 215.17 L_divergence 0.07\n",
      "training step 4800: L_tot 216.67 L_likelihood 216.60 L_divergence 0.07\n",
      "training step 5100: L_tot 215.58 L_likelihood 215.51 L_divergence 0.07\n",
      "training step 5400: L_tot 216.56 L_likelihood 216.51 L_divergence 0.06\n",
      "training step 5700: L_tot 217.13 L_likelihood 217.07 L_divergence 0.06\n",
      "training step 6000: L_tot 215.75 L_likelihood 215.70 L_divergence 0.05\n",
      "training step 6300: L_tot 214.77 L_likelihood 214.75 L_divergence 0.03\n",
      "training step 6600: L_tot 216.42 L_likelihood 216.40 L_divergence 0.02\n",
      "training step 6900: L_tot 216.91 L_likelihood 216.88 L_divergence 0.03\n",
      "training step 7200: L_tot 216.35 L_likelihood 216.30 L_divergence 0.05\n",
      "training step 7500: L_tot 216.00 L_likelihood 215.99 L_divergence 0.02\n",
      "training step 7800: L_tot 215.21 L_likelihood 215.20 L_divergence 0.01\n",
      "training step 8100: L_tot 215.76 L_likelihood 215.75 L_divergence 0.00\n",
      "training step 8400: L_tot 214.30 L_likelihood 214.29 L_divergence 0.01\n",
      "training step 8700: L_tot 215.79 L_likelihood 215.78 L_divergence 0.01\n",
      "training step 9000: L_tot 215.77 L_likelihood 215.76 L_divergence 0.01\n",
      "training step 9300: L_tot 216.51 L_likelihood 216.49 L_divergence 0.01\n",
      "training step 9600: L_tot 215.95 L_likelihood 215.94 L_divergence 0.01\n",
      "training step 9900: L_tot 217.39 L_likelihood 217.37 L_divergence 0.01\n",
      "training step 10200: L_tot 216.07 L_likelihood 216.07 L_divergence 0.00\n",
      "training step 10500: L_tot 215.72 L_likelihood 215.70 L_divergence 0.01\n",
      "training step 10800: L_tot 215.54 L_likelihood 215.54 L_divergence 0.00\n",
      "training step 11100: L_tot 216.49 L_likelihood 216.49 L_divergence 0.00\n",
      "training step 11400: L_tot 216.91 L_likelihood 216.90 L_divergence 0.01\n",
      "training step 11700: L_tot 217.11 L_likelihood 217.10 L_divergence 0.01\n",
      "training step 12000: L_tot 215.89 L_likelihood 215.88 L_divergence 0.01\n",
      "training step 12300: L_tot 215.73 L_likelihood 215.72 L_divergence 0.01\n",
      "training step 12600: L_tot 216.03 L_likelihood 216.02 L_divergence 0.01\n",
      "training step 12900: L_tot 216.08 L_likelihood 216.08 L_divergence 0.01\n",
      "training step 13200: L_tot 218.12 L_likelihood 218.10 L_divergence 0.02\n",
      "training step 13500: L_tot 216.59 L_likelihood 216.58 L_divergence 0.01\n",
      "training step 13800: L_tot 217.01 L_likelihood 217.00 L_divergence 0.01\n",
      "training step 14100: L_tot 216.33 L_likelihood 216.32 L_divergence 0.00\n",
      "training step 14400: L_tot 215.39 L_likelihood 215.36 L_divergence 0.03\n",
      "training step 14700: L_tot 215.46 L_likelihood 215.46 L_divergence 0.00\n",
      "training step 15000: L_tot 216.46 L_likelihood 216.42 L_divergence 0.04\n",
      "training step 15300: L_tot 217.03 L_likelihood 217.01 L_divergence 0.01\n",
      "training step 15600: L_tot 215.07 L_likelihood 215.06 L_divergence 0.01\n",
      "training step 15900: L_tot 216.95 L_likelihood 216.94 L_divergence 0.01\n",
      "training step 16200: L_tot 215.16 L_likelihood 215.15 L_divergence 0.01\n",
      "training step 16500: L_tot 217.48 L_likelihood 217.46 L_divergence 0.02\n"
     ]
    },
    {
     "ename": "KeyboardInterrupt",
     "evalue": "",
     "output_type": "error",
     "traceback": [
      "\u001b[0;31m---------------------------------------------------------------------------\u001b[0m",
      "\u001b[0;31mKeyboardInterrupt\u001b[0m                         Traceback (most recent call last)",
      "\u001b[0;32m<ipython-input-105-f3a1f36e384f>\u001b[0m in \u001b[0;36m<module>\u001b[0;34m\u001b[0m\n\u001b[1;32m     22\u001b[0m             _, tot_loss, loss_likelihood, loss_divergence = sess.run(\n\u001b[1;32m     23\u001b[0m                 \u001b[0;34m(\u001b[0m\u001b[0mtrain_op\u001b[0m\u001b[0;34m,\u001b[0m \u001b[0mloss\u001b[0m\u001b[0;34m,\u001b[0m \u001b[0mneg_marginal_likelihood\u001b[0m\u001b[0;34m,\u001b[0m \u001b[0mKL_divergence\u001b[0m\u001b[0;34m)\u001b[0m\u001b[0;34m,\u001b[0m\u001b[0;34m\u001b[0m\u001b[0;34m\u001b[0m\u001b[0m\n\u001b[0;32m---> 24\u001b[0;31m                 feed_dict={x_hat: batch_xs_input, x: batch_xs_target, y: batch_ys_input, keep_prob : 0.9})\n\u001b[0m\u001b[1;32m     25\u001b[0m \u001b[0;34m\u001b[0m\u001b[0m\n\u001b[1;32m     26\u001b[0m             \u001b[0;32mif\u001b[0m \u001b[0;34m(\u001b[0m\u001b[0mi\u001b[0m\u001b[0;34m+\u001b[0m\u001b[0mepoch\u001b[0m\u001b[0;34m*\u001b[0m\u001b[0mtotal_batch\u001b[0m\u001b[0;34m)\u001b[0m \u001b[0;34m%\u001b[0m \u001b[0;36m300\u001b[0m \u001b[0;34m==\u001b[0m \u001b[0;36m0\u001b[0m\u001b[0;34m:\u001b[0m\u001b[0;34m\u001b[0m\u001b[0;34m\u001b[0m\u001b[0m\n",
      "\u001b[0;32m~/anaconda3/envs/my_env/lib/python3.6/site-packages/tensorflow/python/client/session.py\u001b[0m in \u001b[0;36mrun\u001b[0;34m(self, fetches, feed_dict, options, run_metadata)\u001b[0m\n\u001b[1;32m    927\u001b[0m     \u001b[0;32mtry\u001b[0m\u001b[0;34m:\u001b[0m\u001b[0;34m\u001b[0m\u001b[0;34m\u001b[0m\u001b[0m\n\u001b[1;32m    928\u001b[0m       result = self._run(None, fetches, feed_dict, options_ptr,\n\u001b[0;32m--> 929\u001b[0;31m                          run_metadata_ptr)\n\u001b[0m\u001b[1;32m    930\u001b[0m       \u001b[0;32mif\u001b[0m \u001b[0mrun_metadata\u001b[0m\u001b[0;34m:\u001b[0m\u001b[0;34m\u001b[0m\u001b[0;34m\u001b[0m\u001b[0m\n\u001b[1;32m    931\u001b[0m         \u001b[0mproto_data\u001b[0m \u001b[0;34m=\u001b[0m \u001b[0mtf_session\u001b[0m\u001b[0;34m.\u001b[0m\u001b[0mTF_GetBuffer\u001b[0m\u001b[0;34m(\u001b[0m\u001b[0mrun_metadata_ptr\u001b[0m\u001b[0;34m)\u001b[0m\u001b[0;34m\u001b[0m\u001b[0;34m\u001b[0m\u001b[0m\n",
      "\u001b[0;32m~/anaconda3/envs/my_env/lib/python3.6/site-packages/tensorflow/python/client/session.py\u001b[0m in \u001b[0;36m_run\u001b[0;34m(self, handle, fetches, feed_dict, options, run_metadata)\u001b[0m\n\u001b[1;32m   1150\u001b[0m     \u001b[0;32mif\u001b[0m \u001b[0mfinal_fetches\u001b[0m \u001b[0;32mor\u001b[0m \u001b[0mfinal_targets\u001b[0m \u001b[0;32mor\u001b[0m \u001b[0;34m(\u001b[0m\u001b[0mhandle\u001b[0m \u001b[0;32mand\u001b[0m \u001b[0mfeed_dict_tensor\u001b[0m\u001b[0;34m)\u001b[0m\u001b[0;34m:\u001b[0m\u001b[0;34m\u001b[0m\u001b[0;34m\u001b[0m\u001b[0m\n\u001b[1;32m   1151\u001b[0m       results = self._do_run(handle, final_targets, final_fetches,\n\u001b[0;32m-> 1152\u001b[0;31m                              feed_dict_tensor, options, run_metadata)\n\u001b[0m\u001b[1;32m   1153\u001b[0m     \u001b[0;32melse\u001b[0m\u001b[0;34m:\u001b[0m\u001b[0;34m\u001b[0m\u001b[0;34m\u001b[0m\u001b[0m\n\u001b[1;32m   1154\u001b[0m       \u001b[0mresults\u001b[0m \u001b[0;34m=\u001b[0m \u001b[0;34m[\u001b[0m\u001b[0;34m]\u001b[0m\u001b[0;34m\u001b[0m\u001b[0;34m\u001b[0m\u001b[0m\n",
      "\u001b[0;32m~/anaconda3/envs/my_env/lib/python3.6/site-packages/tensorflow/python/client/session.py\u001b[0m in \u001b[0;36m_do_run\u001b[0;34m(self, handle, target_list, fetch_list, feed_dict, options, run_metadata)\u001b[0m\n\u001b[1;32m   1326\u001b[0m     \u001b[0;32mif\u001b[0m \u001b[0mhandle\u001b[0m \u001b[0;32mis\u001b[0m \u001b[0;32mNone\u001b[0m\u001b[0;34m:\u001b[0m\u001b[0;34m\u001b[0m\u001b[0;34m\u001b[0m\u001b[0m\n\u001b[1;32m   1327\u001b[0m       return self._do_call(_run_fn, feeds, fetches, targets, options,\n\u001b[0;32m-> 1328\u001b[0;31m                            run_metadata)\n\u001b[0m\u001b[1;32m   1329\u001b[0m     \u001b[0;32melse\u001b[0m\u001b[0;34m:\u001b[0m\u001b[0;34m\u001b[0m\u001b[0;34m\u001b[0m\u001b[0m\n\u001b[1;32m   1330\u001b[0m       \u001b[0;32mreturn\u001b[0m \u001b[0mself\u001b[0m\u001b[0;34m.\u001b[0m\u001b[0m_do_call\u001b[0m\u001b[0;34m(\u001b[0m\u001b[0m_prun_fn\u001b[0m\u001b[0;34m,\u001b[0m \u001b[0mhandle\u001b[0m\u001b[0;34m,\u001b[0m \u001b[0mfeeds\u001b[0m\u001b[0;34m,\u001b[0m \u001b[0mfetches\u001b[0m\u001b[0;34m)\u001b[0m\u001b[0;34m\u001b[0m\u001b[0;34m\u001b[0m\u001b[0m\n",
      "\u001b[0;32m~/anaconda3/envs/my_env/lib/python3.6/site-packages/tensorflow/python/client/session.py\u001b[0m in \u001b[0;36m_do_call\u001b[0;34m(self, fn, *args)\u001b[0m\n\u001b[1;32m   1332\u001b[0m   \u001b[0;32mdef\u001b[0m \u001b[0m_do_call\u001b[0m\u001b[0;34m(\u001b[0m\u001b[0mself\u001b[0m\u001b[0;34m,\u001b[0m \u001b[0mfn\u001b[0m\u001b[0;34m,\u001b[0m \u001b[0;34m*\u001b[0m\u001b[0margs\u001b[0m\u001b[0;34m)\u001b[0m\u001b[0;34m:\u001b[0m\u001b[0;34m\u001b[0m\u001b[0;34m\u001b[0m\u001b[0m\n\u001b[1;32m   1333\u001b[0m     \u001b[0;32mtry\u001b[0m\u001b[0;34m:\u001b[0m\u001b[0;34m\u001b[0m\u001b[0;34m\u001b[0m\u001b[0m\n\u001b[0;32m-> 1334\u001b[0;31m       \u001b[0;32mreturn\u001b[0m \u001b[0mfn\u001b[0m\u001b[0;34m(\u001b[0m\u001b[0;34m*\u001b[0m\u001b[0margs\u001b[0m\u001b[0;34m)\u001b[0m\u001b[0;34m\u001b[0m\u001b[0;34m\u001b[0m\u001b[0m\n\u001b[0m\u001b[1;32m   1335\u001b[0m     \u001b[0;32mexcept\u001b[0m \u001b[0merrors\u001b[0m\u001b[0;34m.\u001b[0m\u001b[0mOpError\u001b[0m \u001b[0;32mas\u001b[0m \u001b[0me\u001b[0m\u001b[0;34m:\u001b[0m\u001b[0;34m\u001b[0m\u001b[0;34m\u001b[0m\u001b[0m\n\u001b[1;32m   1336\u001b[0m       \u001b[0mmessage\u001b[0m \u001b[0;34m=\u001b[0m \u001b[0mcompat\u001b[0m\u001b[0;34m.\u001b[0m\u001b[0mas_text\u001b[0m\u001b[0;34m(\u001b[0m\u001b[0me\u001b[0m\u001b[0;34m.\u001b[0m\u001b[0mmessage\u001b[0m\u001b[0;34m)\u001b[0m\u001b[0;34m\u001b[0m\u001b[0;34m\u001b[0m\u001b[0m\n",
      "\u001b[0;32m~/anaconda3/envs/my_env/lib/python3.6/site-packages/tensorflow/python/client/session.py\u001b[0m in \u001b[0;36m_run_fn\u001b[0;34m(feed_dict, fetch_list, target_list, options, run_metadata)\u001b[0m\n\u001b[1;32m   1317\u001b[0m       \u001b[0mself\u001b[0m\u001b[0;34m.\u001b[0m\u001b[0m_extend_graph\u001b[0m\u001b[0;34m(\u001b[0m\u001b[0;34m)\u001b[0m\u001b[0;34m\u001b[0m\u001b[0;34m\u001b[0m\u001b[0m\n\u001b[1;32m   1318\u001b[0m       return self._call_tf_sessionrun(\n\u001b[0;32m-> 1319\u001b[0;31m           options, feed_dict, fetch_list, target_list, run_metadata)\n\u001b[0m\u001b[1;32m   1320\u001b[0m \u001b[0;34m\u001b[0m\u001b[0m\n\u001b[1;32m   1321\u001b[0m     \u001b[0;32mdef\u001b[0m \u001b[0m_prun_fn\u001b[0m\u001b[0;34m(\u001b[0m\u001b[0mhandle\u001b[0m\u001b[0;34m,\u001b[0m \u001b[0mfeed_dict\u001b[0m\u001b[0;34m,\u001b[0m \u001b[0mfetch_list\u001b[0m\u001b[0;34m)\u001b[0m\u001b[0;34m:\u001b[0m\u001b[0;34m\u001b[0m\u001b[0;34m\u001b[0m\u001b[0m\n",
      "\u001b[0;32m~/anaconda3/envs/my_env/lib/python3.6/site-packages/tensorflow/python/client/session.py\u001b[0m in \u001b[0;36m_call_tf_sessionrun\u001b[0;34m(self, options, feed_dict, fetch_list, target_list, run_metadata)\u001b[0m\n\u001b[1;32m   1405\u001b[0m     return tf_session.TF_SessionRun_wrapper(\n\u001b[1;32m   1406\u001b[0m         \u001b[0mself\u001b[0m\u001b[0;34m.\u001b[0m\u001b[0m_session\u001b[0m\u001b[0;34m,\u001b[0m \u001b[0moptions\u001b[0m\u001b[0;34m,\u001b[0m \u001b[0mfeed_dict\u001b[0m\u001b[0;34m,\u001b[0m \u001b[0mfetch_list\u001b[0m\u001b[0;34m,\u001b[0m \u001b[0mtarget_list\u001b[0m\u001b[0;34m,\u001b[0m\u001b[0;34m\u001b[0m\u001b[0;34m\u001b[0m\u001b[0m\n\u001b[0;32m-> 1407\u001b[0;31m         run_metadata)\n\u001b[0m\u001b[1;32m   1408\u001b[0m \u001b[0;34m\u001b[0m\u001b[0m\n\u001b[1;32m   1409\u001b[0m   \u001b[0;32mdef\u001b[0m \u001b[0m_call_tf_sessionprun\u001b[0m\u001b[0;34m(\u001b[0m\u001b[0mself\u001b[0m\u001b[0;34m,\u001b[0m \u001b[0mhandle\u001b[0m\u001b[0;34m,\u001b[0m \u001b[0mfeed_dict\u001b[0m\u001b[0;34m,\u001b[0m \u001b[0mfetch_list\u001b[0m\u001b[0;34m)\u001b[0m\u001b[0;34m:\u001b[0m\u001b[0;34m\u001b[0m\u001b[0;34m\u001b[0m\u001b[0m\n",
      "\u001b[0;31mKeyboardInterrupt\u001b[0m: "
     ]
    }
   ],
   "source": [
    "with tf.Session() as sess:\n",
    "\n",
    "    sess.run(tf.global_variables_initializer(), feed_dict={keep_prob : 0.9})\n",
    "    \n",
    "    for epoch in range(n_epochs):\n",
    "        # Random shuffling\n",
    "        np.random.shuffle(train_total_data)\n",
    "        train_data_ = train_total_data[:, :-1]\n",
    "        train_labels_ = train_total_data[:, -1]\n",
    "\n",
    "        for i in range(total_batch):\n",
    "\n",
    "            offset = (i * batch_size) % (num_examples)\n",
    "            batch_xs_input = train_data_[offset:(offset + batch_size), :]\n",
    "            batch_ys_input = train_labels_[offset:(offset + batch_size)]\n",
    "\n",
    "            # add salt & pepper noise\n",
    "            if ADD_NOISE:\n",
    "                batch_xs_input = batch_xs_input * np.random.randint(2, size=batch_xs_input.shape)\n",
    "                batch_xs_input += np.random.randint(2, size=batch_xs_input.shape)\n",
    "\n",
    "            _, tot_loss, loss_likelihood, loss_divergence = sess.run(\n",
    "                (train_op, loss, neg_marginal_likelihood, KL_divergence),\n",
    "                feed_dict={x_hat: batch_xs_input, x: batch_xs_target, y: batch_ys_input, keep_prob : 0.9})\n",
    "\n",
    "            if (i+epoch*total_batch) % 300 == 0:\n",
    "                print(\"training step %d: L_tot %03.2f L_likelihood %03.2f L_divergence %03.2f\" % (i+epoch*total_batch, tot_loss, loss_likelihood, loss_divergence))\n",
    "                saver.save(sess,\n",
    "                         os.path.join(model_dir, 'checkpoint'),\n",
    "                         global_step=global_step)\n"
   ]
  }
 ],
 "metadata": {
  "kernelspec": {
   "display_name": "Python 3",
   "language": "python",
   "name": "python3"
  },
  "language_info": {
   "codemirror_mode": {
    "name": "ipython",
    "version": 3
   },
   "file_extension": ".py",
   "mimetype": "text/x-python",
   "name": "python",
   "nbconvert_exporter": "python",
   "pygments_lexer": "ipython3",
   "version": "3.6.8"
  }
 },
 "nbformat": 4,
 "nbformat_minor": 2
}
