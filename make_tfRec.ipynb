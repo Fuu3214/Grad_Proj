{
 "cells": [
  {
   "cell_type": "code",
   "execution_count": 2,
   "metadata": {},
   "outputs": [],
   "source": [
    "#coding=utf-8\n",
    "import os\n",
    "import tensorflow as tf\n",
    "from PIL import Image  #注意Image,后面会用到\n",
    "import matplotlib.pyplot as plt\n",
    "import numpy as np\n",
    "import pandas as pd\n",
    "import struct\n",
    "import io"
   ]
  },
  {
   "cell_type": "code",
   "execution_count": 3,
   "metadata": {},
   "outputs": [],
   "source": [
    "\n",
    "DATA_DIR = './splitted_dataset/adv_train'\n",
    "LABEL = './splitted_dataset/adv_train.csv'\n",
    "\n",
    "writer= tf.python_io.TFRecordWriter(\"adv_train.tfrecords\") #要生成的文件\n",
    " \n",
    "\n",
    "imagepaths = []\n",
    "labels = []\n",
    "\n",
    "for root, dirs, files in os.walk(DATA_DIR):\n",
    "    for fileName in files:\n",
    "        imagepaths.append(DATA_DIR + os.sep + fileName)\n",
    "\n",
    "imagepaths.sort(key=lambda x:int(x[len(DATA_DIR)+len(os.sep):-4]))\n",
    "labels = pd.read_csv(LABEL, header = None).rename(columns = {0:'label'})['label'].values.tolist()\n",
    "\n",
    "for img_path,label in zip(imagepaths, labels):\n",
    "    img_raw = Image.open(img_path).convert('L')  \n",
    "    img_raw = img_raw.resize((28, 28))     # 转换图片大小\n",
    "    img_raw = img_raw.tobytes()       # 将图片转化为原生bytes\n",
    "\n",
    "    \n",
    "    example = tf.train.Example(features=tf.train.Features(feature={\n",
    "        \"label\": tf.train.Feature(int64_list=tf.train.Int64List(value=[label])),\n",
    "        'img_raw': tf.train.Feature(bytes_list=tf.train.BytesList(value=[img_raw]))\n",
    "    })) #example对象对label和image数据进行封装\n",
    "    writer.write(example.SerializeToString())  #序列化为字符串\n",
    "writer.close()"
   ]
  },
  {
   "cell_type": "code",
   "execution_count": null,
   "metadata": {},
   "outputs": [],
   "source": []
  }
 ],
 "metadata": {
  "kernelspec": {
   "display_name": "Python 3",
   "language": "python",
   "name": "python3"
  },
  "language_info": {
   "codemirror_mode": {
    "name": "ipython",
    "version": 3
   },
   "file_extension": ".py",
   "mimetype": "text/x-python",
   "name": "python",
   "nbconvert_exporter": "python",
   "pygments_lexer": "ipython3",
   "version": "3.6.8"
  }
 },
 "nbformat": 4,
 "nbformat_minor": 2
}
