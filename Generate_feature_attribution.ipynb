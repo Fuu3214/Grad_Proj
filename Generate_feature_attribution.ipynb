{
 "cells": [
  {
   "cell_type": "code",
   "execution_count": 1,
   "metadata": {},
   "outputs": [],
   "source": [
    "\"\"\"Evaluates feature attributes of a adversarialy trained model against adv attack\"\"\"\n",
    "from __future__ import absolute_import\n",
    "from __future__ import division\n",
    "from __future__ import print_function\n",
    "\n",
    "from datetime import datetime\n",
    "import json\n",
    "import math\n",
    "import os\n",
    "import sys\n",
    "import time\n",
    "\n",
    "import tensorflow as tf\n",
    "from tensorflow.examples.tutorials.mnist import input_data\n",
    "\n",
    "import PIL\n",
    "import matplotlib.pyplot as plt\n",
    "from numpy import linalg as LA\n",
    "import numpy as np\n",
    "\n",
    "from model import Model\n",
    "\n",
    "from tensorflow.python import pywrap_tensorflow\n"
   ]
  },
  {
   "cell_type": "code",
   "execution_count": 85,
   "metadata": {},
   "outputs": [],
   "source": [
    "model_dir = \"./models/02/adv_trained\""
   ]
  },
  {
   "cell_type": "code",
   "execution_count": 86,
   "metadata": {},
   "outputs": [
    {
     "name": "stdout",
     "output_type": "stream",
     "text": [
      "INFO:tensorflow:Restoring parameters from ./models/02/adv_trained/checkpoint-29700\n"
     ]
    }
   ],
   "source": [
    "tf.reset_default_graph()\n",
    "model = Model()\n",
    "saver = tf.train.Saver()\n",
    "\n",
    "config = tf.ConfigProto()\n",
    "config.log_device_placement=False\n",
    "config.allow_soft_placement=True\n",
    "config.gpu_options.allow_growth=True\n",
    "session = tf.Session(config=config)\n",
    "session.run(tf.global_variables_initializer())\n",
    "\n",
    "\n",
    "checkpoint = tf.train.latest_checkpoint(model_dir)\n",
    "reader=pywrap_tensorflow.NewCheckpointReader(checkpoint)\n",
    "saver.restore(session, checkpoint)"
   ]
  },
  {
   "cell_type": "code",
   "execution_count": 87,
   "metadata": {},
   "outputs": [
    {
     "name": "stdout",
     "output_type": "stream",
     "text": [
      "Extracting MNIST_data/train-images-idx3-ubyte.gz\n",
      "Extracting MNIST_data/train-labels-idx1-ubyte.gz\n",
      "Extracting MNIST_data/t10k-images-idx3-ubyte.gz\n",
      "Extracting MNIST_data/t10k-labels-idx1-ubyte.gz\n"
     ]
    }
   ],
   "source": [
    "mnist = input_data.read_data_sets('MNIST_data', one_hot=False)\n",
    "num_examples = mnist.train.num_examples"
   ]
  },
  {
   "cell_type": "code",
   "execution_count": 88,
   "metadata": {},
   "outputs": [],
   "source": [
    "labeled_pred = model.softmax_layer[:,model.y_input[0]]\n",
    "grad = tf.gradients(labeled_pred, model.x_input)\n",
    "def integrated_gradient(img, target_label_index, steps = 50, baseline=None):\n",
    "    if baseline is None:\n",
    "        baseline = 0*img\n",
    "    assert(baseline.shape == img.shape)\n",
    "    steps=steps\n",
    "\n",
    "    # Scale input and compute gradients.\n",
    "    scaled_inputs = [baseline + (float(i)/steps)*(img-baseline) for i in range(0, steps+1)]\n",
    "\n",
    "    gradient = session.run(grad, feed_dict = {model.x_input:np.squeeze(scaled_inputs),model.y_input:target_label_index})\n",
    "    avg_grads = np.average(gradient[0][:-1], axis=0)\n",
    "    integrated_gradients = (img-baseline)*avg_grads  # shape: <inp.shape>\n",
    "    return integrated_gradients"
   ]
  },
  {
   "cell_type": "code",
   "execution_count": 116,
   "metadata": {},
   "outputs": [],
   "source": [
    "feature_attributions = []\n",
    "for i in range(num_examples):\n",
    "    x = mnist.train.images[i]\n",
    "    y = mnist.train.labels[i]\n",
    "    feature_attributions.append(integrated_gradient(x, [y]))"
   ]
  },
  {
   "cell_type": "code",
   "execution_count": 117,
   "metadata": {},
   "outputs": [
    {
     "name": "stdout",
     "output_type": "stream",
     "text": [
      "Storing examples\n",
      "Examples stored in ./features/02/feature_attributions.npy\n"
     ]
    }
   ],
   "source": [
    "print('Storing examples')\n",
    "path = \"./features/02/feature_attributions.npy\"\n",
    "feature_attributions = np.asarray(feature_attributions)\n",
    "np.save(path, feature_attributions)\n",
    "print('Examples stored in {}'.format(path))"
   ]
  },
  {
   "cell_type": "code",
   "execution_count": 118,
   "metadata": {},
   "outputs": [],
   "source": [
    "features = np.load(path)"
   ]
  },
  {
   "cell_type": "code",
   "execution_count": 119,
   "metadata": {},
   "outputs": [
    {
     "data": {
      "text/plain": [
       "(10, 784)"
      ]
     },
     "execution_count": 119,
     "metadata": {},
     "output_type": "execute_result"
    }
   ],
   "source": [
    "features.shape"
   ]
  },
  {
   "cell_type": "code",
   "execution_count": null,
   "metadata": {},
   "outputs": [],
   "source": []
  }
 ],
 "metadata": {
  "kernelspec": {
   "display_name": "Python 3",
   "language": "python",
   "name": "python3"
  },
  "language_info": {
   "codemirror_mode": {
    "name": "ipython",
    "version": 3
   },
   "file_extension": ".py",
   "mimetype": "text/x-python",
   "name": "python",
   "nbconvert_exporter": "python",
   "pygments_lexer": "ipython3",
   "version": "3.6.8"
  }
 },
 "nbformat": 4,
 "nbformat_minor": 2
}
