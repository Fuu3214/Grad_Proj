{
 "cells": [
  {
   "cell_type": "code",
   "execution_count": 2,
   "metadata": {},
   "outputs": [],
   "source": [
    "\"\"\"Evaluates feature attributes of a adversarialy trained model against adv attack\"\"\"\n",
    "from __future__ import absolute_import\n",
    "from __future__ import division\n",
    "from __future__ import print_function\n",
    "\n",
    "from datetime import datetime\n",
    "import json\n",
    "import math\n",
    "import os\n",
    "import sys\n",
    "import time\n",
    "\n",
    "import tensorflow as tf\n",
    "from tensorflow.examples.tutorials.mnist import input_data\n",
    "\n",
    "import PIL\n",
    "import matplotlib.pyplot as plt\n",
    "from numpy import linalg as LA\n",
    "import numpy as np\n",
    "\n",
    "from model import Model\n",
    "\n",
    "from tensorflow.python import pywrap_tensorflow\n",
    "from tensorflow.python.ops.parallel_for.gradients import jacobian\n"
   ]
  },
  {
   "cell_type": "code",
   "execution_count": 3,
   "metadata": {},
   "outputs": [],
   "source": [
    "model_dir = \"./models/03\"\n",
    "\n",
    "num_eval_examples = 10000\n",
    "eval_batch_size = 200\n"
   ]
  },
  {
   "cell_type": "code",
   "execution_count": 10,
   "metadata": {},
   "outputs": [],
   "source": [
    "tf.reset_default_graph()\n",
    "x = tf.placeholder(tf.float32, shape = [None, 784])\n",
    "y = tf.placeholder(tf.int64, shape = [None])\n",
    "model = Model()\n",
    "model.build_and_eval(x, y)\n",
    "\n",
    "checkpoint = tf.train.latest_checkpoint(model_dir)\n",
    "reader=pywrap_tensorflow.NewCheckpointReader(checkpoint)\n",
    "saver = tf.train.Saver()"
   ]
  },
  {
   "cell_type": "code",
   "execution_count": 11,
   "metadata": {},
   "outputs": [
    {
     "name": "stdout",
     "output_type": "stream",
     "text": [
      "INFO:tensorflow:Restoring parameters from ./models/03/checkpoint-99900\n"
     ]
    }
   ],
   "source": [
    "config = tf.ConfigProto()\n",
    "config.log_device_placement=False\n",
    "config.allow_soft_placement=True\n",
    "config.gpu_options.allow_growth=True\n",
    "\n",
    "session = tf.Session(config=config)\n",
    "session.run(tf.global_variables_initializer())\n",
    "saver.restore(session, checkpoint)"
   ]
  },
  {
   "cell_type": "code",
   "execution_count": 12,
   "metadata": {},
   "outputs": [
    {
     "name": "stdout",
     "output_type": "stream",
     "text": [
      "Extracting MNIST_data/train-images-idx3-ubyte.gz\n",
      "Extracting MNIST_data/train-labels-idx1-ubyte.gz\n",
      "Extracting MNIST_data/t10k-images-idx3-ubyte.gz\n",
      "Extracting MNIST_data/t10k-labels-idx1-ubyte.gz\n"
     ]
    }
   ],
   "source": [
    "test_path = \"./adv_test/fgsm/adv.npy\"\n",
    "adv_test = np.load(test_path)\n",
    "\n",
    "mnist = input_data.read_data_sets('MNIST_data', one_hot=False)\n",
    "true_labels = mnist.test.labels\n",
    "\n",
    "# train_total_data = np.column_stack((adv_test,true_labels))"
   ]
  },
  {
   "cell_type": "code",
   "execution_count": 7,
   "metadata": {},
   "outputs": [],
   "source": [
    "def classify(sess, img):\n",
    "    x = tf.placeholder(tf.float32, shape = [None, 784])\n",
    "    model.build(x)\n",
    "    return sess.run(model.y_pred, feed_dict = {x: [img]})\n",
    "def plot(img):\n",
    "    plt.imshow(np.resize(img,[28,28]), cmap='Greys_r')"
   ]
  },
  {
   "cell_type": "code",
   "execution_count": 8,
   "metadata": {},
   "outputs": [
    {
     "data": {
      "text/plain": [
       "array([0])"
      ]
     },
     "execution_count": 8,
     "metadata": {},
     "output_type": "execute_result"
    },
    {
     "data": {
      "image/png": "[encoded data removed]",
      "text/plain": [
       "<Figure size 432x288 with 1 Axes>"
      ]
     },
     "metadata": {
      "needs_background": "light"
     },
     "output_type": "display_data"
    }
   ],
   "source": [
    "idx = 2333\n",
    "plot(adv_test[idx])\n",
    "label = classify(session, adv_test[idx])\n",
    "label"
   ]
  },
  {
   "cell_type": "code",
   "execution_count": 52,
   "metadata": {},
   "outputs": [],
   "source": [
    "attr_path = \"./features/test/deepfool/adv_attr.npy\"\n",
    "adv_attr = np.load(attr_path)"
   ]
  },
  {
   "cell_type": "code",
   "execution_count": 53,
   "metadata": {},
   "outputs": [
    {
     "data": {
      "image/png": "[encoded data removed]",
      "text/plain": [
       "<Figure size 432x288 with 1 Axes>"
      ]
     },
     "metadata": {
      "needs_background": "light"
     },
     "output_type": "display_data"
    }
   ],
   "source": [
    "plot(adv_attr[idx])"
   ]
  },
  {
   "cell_type": "code",
   "execution_count": 46,
   "metadata": {},
   "outputs": [],
   "source": [
    "x = tf.placeholder(tf.float32, shape = [None, 784])\n",
    "model.build(x)\n",
    "labeled_pred = model.softmax_layer[:,model.y_input[0]]\n",
    "grad = tf.gradients(labeled_pred, model.x_input)\n",
    "def integrated_gradient(img, target_label_index, steps = 50, baseline=None):\n",
    "    if baseline is None:\n",
    "        baseline = 0*img\n",
    "    assert(baseline.shape == img.shape)\n",
    "    steps=steps\n",
    "\n",
    "    # Scale input and compute gradients.\n",
    "    scaled_inputs = [baseline + (float(i)/steps)*(img-baseline) for i in range(0, steps+1)]\n",
    "\n",
    "    gradient = session.run(grad, feed_dict = {model.x_input:np.squeeze(scaled_inputs),model.y_input:target_label_index})\n",
    "    avg_grads = np.average(gradient[0][:-1], axis=0)\n",
    "    integrated_gradients = (img-baseline)*avg_grads  # shape: <inp.shape>\n",
    "    return integrated_gradients"
   ]
  },
  {
   "cell_type": "code",
   "execution_count": 47,
   "metadata": {},
   "outputs": [],
   "source": [
    "mask = integrated_gradient(adv_test[idx], label)"
   ]
  },
  {
   "cell_type": "code",
   "execution_count": 48,
   "metadata": {},
   "outputs": [
    {
     "data": {
      "image/png": "[encoded data removed]",
      "text/plain": [
       "<Figure size 432x288 with 1 Axes>"
      ]
     },
     "metadata": {
      "needs_background": "light"
     },
     "output_type": "display_data"
    }
   ],
   "source": [
    "plot(mask)"
   ]
  },
  {
   "cell_type": "code",
   "execution_count": 13,
   "metadata": {},
   "outputs": [
    {
     "name": "stdout",
     "output_type": "stream",
     "text": [
      "natural: 96.40%\n",
      "adversarial: 0.00%\n",
      "avg nat loss: 0.0976\n",
      "avg adv loss: 0.0000\n"
     ]
    }
   ],
   "source": [
    "\n",
    "num_batches = int(math.ceil(num_eval_examples / eval_batch_size))\n",
    "total_xent_nat = 0.\n",
    "total_xent_adv = 0.\n",
    "total_corr_nat = 0\n",
    "total_corr_adv = 0\n",
    "\n",
    "\n",
    "for ibatch in range(num_batches):\n",
    "    bstart = ibatch * eval_batch_size\n",
    "    bend = min(bstart + eval_batch_size, num_eval_examples)\n",
    "\n",
    "#     x_batch = adv_test[bstart:bend, :]\n",
    "#     y_batch = true_labels[bstart:bend]\n",
    "\n",
    "    x_batch = adv_test[bstart:bend, :]\n",
    "    y_batch = mnist.test.labels[bstart:bend]\n",
    "\n",
    "    dict_nat = {model.x_input: x_batch, model.y_input: y_batch}\n",
    "\n",
    "#     x_batch_adv = attack.perturb(x_batch, y_batch, sess)\n",
    "#     dict_adv = {model.x_input: x_batch_adv, model.y_input: y_batch}\n",
    "\n",
    "    cur_corr_nat, cur_xent_nat = session.run([model.num_correct, model.xent], feed_dict = dict_nat)\n",
    "    \n",
    "    total_xent_nat += cur_xent_nat\n",
    "    total_corr_nat += cur_corr_nat\n",
    "    \n",
    "#     total_xent_adv += cur_xent_adv\n",
    "#     total_corr_adv += cur_corr_adv\n",
    "    \n",
    "avg_xent_nat = total_xent_nat / num_eval_examples\n",
    "avg_xent_adv = total_xent_adv / num_eval_examples\n",
    "acc_nat = total_corr_nat / num_eval_examples\n",
    "acc_adv = total_corr_adv / num_eval_examples\n",
    "\n",
    "print('natural: {:.2f}%'.format(100 * acc_nat))\n",
    "print('adversarial: {:.2f}%'.format(100 * acc_adv))\n",
    "print('avg nat loss: {:.4f}'.format(avg_xent_nat))\n",
    "print('avg adv loss: {:.4f}'.format(avg_xent_adv))\n",
    "    \n",
    "#     cur_corr_adv, cur_xent_adv = sess.run(\n",
    "#     [model.num_correct,model.xent],\n",
    "#     feed_dict = dict_adv)"
   ]
  },
  {
   "cell_type": "code",
   "execution_count": null,
   "metadata": {},
   "outputs": [],
   "source": []
  }
 ],
 "metadata": {
  "kernelspec": {
   "display_name": "Python 3",
   "language": "python",
   "name": "python3"
  },
  "language_info": {
   "codemirror_mode": {
    "name": "ipython",
    "version": 3
   },
   "file_extension": ".py",
   "mimetype": "text/x-python",
   "name": "python",
   "nbconvert_exporter": "python",
   "pygments_lexer": "ipython3",
   "version": "3.6.8"
  }
 },
 "nbformat": 4,
 "nbformat_minor": 2
}
