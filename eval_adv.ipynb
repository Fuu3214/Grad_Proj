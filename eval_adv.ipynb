{
 "cells": [
  {
   "cell_type": "code",
   "execution_count": 1,
   "metadata": {},
   "outputs": [],
   "source": [
    "\"\"\"Evaluates feature attributes of a adversarialy trained model against adv attack\"\"\"\n",
    "from __future__ import absolute_import\n",
    "from __future__ import division\n",
    "from __future__ import print_function\n",
    "\n",
    "from datetime import datetime\n",
    "import json\n",
    "import math\n",
    "import os\n",
    "import sys\n",
    "import time\n",
    "\n",
    "import tensorflow as tf\n",
    "from tensorflow.examples.tutorials.mnist import input_data\n",
    "\n",
    "import PIL\n",
    "import matplotlib.pyplot as plt\n",
    "from numpy import linalg as LA\n",
    "import numpy as np\n",
    "\n",
    "from model import Model\n",
    "\n",
    "from tensorflow.python import pywrap_tensorflow\n",
    "from tensorflow.python.ops.parallel_for.gradients import jacobian\n"
   ]
  },
  {
   "cell_type": "code",
   "execution_count": 2,
   "metadata": {},
   "outputs": [],
   "source": [
    "model_dir = \"./models/nat\"\n",
    "\n",
    "num_eval_examples = 10000\n",
    "eval_batch_size = 200\n"
   ]
  },
  {
   "cell_type": "code",
   "execution_count": 3,
   "metadata": {},
   "outputs": [
    {
     "name": "stdout",
     "output_type": "stream",
     "text": [
      "WARNING:tensorflow:From /home/xdjf/anaconda3/envs/my_env/lib/python3.6/site-packages/tensorflow/python/framework/op_def_library.py:263: colocate_with (from tensorflow.python.framework.ops) is deprecated and will be removed in a future version.\n",
      "Instructions for updating:\n",
      "Colocations handled automatically by placer.\n"
     ]
    }
   ],
   "source": [
    "tf.reset_default_graph()\n",
    "model = Model()\n",
    "checkpoint = tf.train.latest_checkpoint(model_dir)\n",
    "reader=pywrap_tensorflow.NewCheckpointReader(checkpoint)\n",
    "saver = tf.train.Saver()"
   ]
  },
  {
   "cell_type": "code",
   "execution_count": 4,
   "metadata": {},
   "outputs": [
    {
     "name": "stdout",
     "output_type": "stream",
     "text": [
      "WARNING:tensorflow:From /home/xdjf/anaconda3/envs/my_env/lib/python3.6/site-packages/tensorflow/python/training/saver.py:1266: checkpoint_exists (from tensorflow.python.training.checkpoint_management) is deprecated and will be removed in a future version.\n",
      "Instructions for updating:\n",
      "Use standard file APIs to check for files with this prefix.\n",
      "INFO:tensorflow:Restoring parameters from ./models/nat/checkpoint-7800\n"
     ]
    }
   ],
   "source": [
    "config = tf.ConfigProto()\n",
    "config.log_device_placement=False\n",
    "config.allow_soft_placement=True\n",
    "config.gpu_options.allow_growth=True\n",
    "\n",
    "session = tf.Session(config=config)\n",
    "session.run(tf.global_variables_initializer())\n",
    "saver.restore(session, checkpoint)"
   ]
  },
  {
   "cell_type": "code",
   "execution_count": 17,
   "metadata": {},
   "outputs": [
    {
     "name": "stdout",
     "output_type": "stream",
     "text": [
      "Extracting MNIST_data/train-images-idx3-ubyte.gz\n",
      "Extracting MNIST_data/train-labels-idx1-ubyte.gz\n",
      "Extracting MNIST_data/t10k-images-idx3-ubyte.gz\n",
      "Extracting MNIST_data/t10k-labels-idx1-ubyte.gz\n"
     ]
    }
   ],
   "source": [
    "test_path = \"./adv_test/nat/02.npy\"\n",
    "adv_test = np.load(test_path)\n",
    "\n",
    "mnist = input_data.read_data_sets('MNIST_data', one_hot=False)\n",
    "true_labels = mnist.test.labels\n",
    "\n",
    "# train_total_data = np.column_stack((adv_test,true_labels))"
   ]
  },
  {
   "cell_type": "code",
   "execution_count": 14,
   "metadata": {},
   "outputs": [
    {
     "data": {
      "text/plain": [
       "(10000,)"
      ]
     },
     "execution_count": 14,
     "metadata": {},
     "output_type": "execute_result"
    }
   ],
   "source": [
    "true_labels.shape"
   ]
  },
  {
   "cell_type": "code",
   "execution_count": 18,
   "metadata": {},
   "outputs": [
    {
     "name": "stdout",
     "output_type": "stream",
     "text": [
      "natural: 0.00%\n",
      "adversarial: 0.00%\n",
      "avg nat loss: 19.4133\n",
      "avg adv loss: 0.0000\n"
     ]
    }
   ],
   "source": [
    "\n",
    "\n",
    "num_batches = int(math.ceil(num_eval_examples / eval_batch_size))\n",
    "total_xent_nat = 0.\n",
    "total_xent_adv = 0.\n",
    "total_corr_nat = 0\n",
    "total_corr_adv = 0\n",
    "\n",
    "\n",
    "for ibatch in range(num_batches):\n",
    "    bstart = ibatch * eval_batch_size\n",
    "    bend = min(bstart + eval_batch_size, num_eval_examples)\n",
    "\n",
    "#     x_batch = adv_test[bstart:bend, :]\n",
    "#     y_batch = true_labels[bstart:bend]\n",
    "\n",
    "    x_batch = adv_test[bstart:bend, :]\n",
    "    y_batch = mnist.test.labels[bstart:bend]\n",
    "\n",
    "    dict_nat = {model.x_input: x_batch, model.y_input: y_batch}\n",
    "\n",
    "#     x_batch_adv = attack.perturb(x_batch, y_batch, sess)\n",
    "#     dict_adv = {model.x_input: x_batch_adv, model.y_input: y_batch}\n",
    "\n",
    "    cur_corr_nat, cur_xent_nat = session.run([model.num_correct, model.xent], feed_dict = dict_nat)\n",
    "    \n",
    "    total_xent_nat += cur_xent_nat\n",
    "    total_corr_nat += cur_corr_nat\n",
    "    \n",
    "#     total_xent_adv += cur_xent_adv\n",
    "#     total_corr_adv += cur_corr_adv\n",
    "    \n",
    "avg_xent_nat = total_xent_nat / num_eval_examples\n",
    "avg_xent_adv = total_xent_adv / num_eval_examples\n",
    "acc_nat = total_corr_nat / num_eval_examples\n",
    "acc_adv = total_corr_adv / num_eval_examples\n",
    "\n",
    "print('natural: {:.2f}%'.format(100 * acc_nat))\n",
    "print('adversarial: {:.2f}%'.format(100 * acc_adv))\n",
    "print('avg nat loss: {:.4f}'.format(avg_xent_nat))\n",
    "print('avg adv loss: {:.4f}'.format(avg_xent_adv))\n",
    "    \n",
    "#     cur_corr_adv, cur_xent_adv = sess.run(\n",
    "#     [model.num_correct,model.xent],\n",
    "#     feed_dict = dict_adv)"
   ]
  },
  {
   "cell_type": "code",
   "execution_count": 20,
   "metadata": {},
   "outputs": [
    {
     "name": "stdout",
     "output_type": "stream",
     "text": [
      "4\n",
      "[9]\n"
     ]
    },
    {
     "data": {
      "image/png": "[encoded data removed]",
      "text/plain": [
       "<Figure size 432x288 with 1 Axes>"
      ]
     },
     "metadata": {
      "needs_background": "light"
     },
     "output_type": "display_data"
    }
   ],
   "source": [
    "idx = 4\n",
    "plt.imshow(np.resize(adv_test[idx],[28,28]), cmap='Greys_r')\n",
    "print(mnist.test.labels[idx])\n",
    "print(session.run(model.y_pred, feed_dict={model.x_input: [adv_test[idx]]}))"
   ]
  },
  {
   "cell_type": "code",
   "execution_count": null,
   "metadata": {},
   "outputs": [],
   "source": []
  },
  {
   "cell_type": "code",
   "execution_count": null,
   "metadata": {},
   "outputs": [],
   "source": []
  }
 ],
 "metadata": {
  "kernelspec": {
   "display_name": "Python 3",
   "language": "python",
   "name": "python3"
  },
  "language_info": {
   "codemirror_mode": {
    "name": "ipython",
    "version": 3
   },
   "file_extension": ".py",
   "mimetype": "text/x-python",
   "name": "python",
   "nbconvert_exporter": "python",
   "pygments_lexer": "ipython3",
   "version": "3.6.8"
  }
 },
 "nbformat": 4,
 "nbformat_minor": 2
}
