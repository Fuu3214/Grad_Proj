{
 "cells": [
  {
   "cell_type": "code",
   "execution_count": 55,
   "metadata": {},
   "outputs": [],
   "source": [
    "import os\n",
    "import struct\n",
    "import numpy as np\n",
    "import matplotlib.pyplot as plt\n",
    "from PIL import Image\n",
    "\n",
    "def load_mnist_image(path, filename, type = 'train'):\n",
    "    full_name = os.path.join(path, filename)\n",
    "    fp = open(full_name, 'rb')\n",
    "    buf = fp.read()\n",
    "    index = 0;\n",
    "    magic, num, rows, cols = struct.unpack_from('>IIII', buf, index)\n",
    "    index += struct.calcsize('>IIII')\n",
    "\n",
    "    for image in range(0, num):\n",
    "        im = struct.unpack_from('>784B', buf, index)\n",
    "        index += struct.calcsize('>784B')\n",
    "        im = np.array(im, dtype = 'uint8')\n",
    "        im = im.reshape(28, 28)\n",
    "        im = Image.fromarray(im)\n",
    "        if (type == 'train'):\n",
    "            isExists = os.path.exists('./train')\n",
    "            if not isExists:\n",
    "                os.mkdir('./train')\n",
    "            im.save('./train/train_%s.bmp' %image, 'bmp')\n",
    "        if (type == 'test'):\n",
    "            isExists = os.path.exists('./test')\n",
    "            if not isExists:\n",
    "                os.mkdir('./test')\n",
    "            im.save('./test/test_%s.bmp' %image, 'bmp')\n",
    "\n",
    "def load_mnist_label(path, filename, type = 'train'):\n",
    "    full_name = os.path.join(path, filename)\n",
    "    fp = open(full_name, 'rb')\n",
    "    buf = fp.read()\n",
    "    index = 0;\n",
    "    magic, num = struct.unpack_from('>II', buf, index)\n",
    "    index += struct.calcsize('>II')\n",
    "    Labels = np.zeros(num)\n",
    "\n",
    "    for i in range(num):\n",
    "        Labels[i] = np.array(struct.unpack_from('>B', buf, index))\n",
    "        index += struct.calcsize('>B')\n",
    "\n",
    "    if (type == 'train'):\n",
    "        np.savetxt('./train_labels.csv', Labels, fmt='%i', delimiter=',')\n",
    "    if (type == 'test'):\n",
    "        np.savetext('./test_labels.csv', Labels, fmt='%i', delimiter=',')\n",
    "\n",
    "    return Labels\n"
   ]
  },
  {
   "cell_type": "code",
   "execution_count": 57,
   "metadata": {},
   "outputs": [],
   "source": [
    "load_mnist_image('D:\\projects\\graduate\\MNIST_data', 'train-images.idx3-ubyte', type='train')"
   ]
  },
  {
   "cell_type": "code",
   "execution_count": 58,
   "metadata": {},
   "outputs": [
    {
     "data": {
      "text/plain": [
       "array([5., 0., 4., ..., 5., 6., 8.])"
      ]
     },
     "execution_count": 58,
     "metadata": {},
     "output_type": "execute_result"
    }
   ],
   "source": [
    "load_mnist_label('D:\\projects\\graduate\\MNIST_data', 'train-labels.idx1-ubyte', type='train')"
   ]
  },
  {
   "cell_type": "code",
   "execution_count": 7,
   "metadata": {},
   "outputs": [],
   "source": [
    "from tensorflow.examples.tutorials.mnist import input_data\n",
    "import tensorflow as tf"
   ]
  },
  {
   "cell_type": "code",
   "execution_count": 27,
   "metadata": {},
   "outputs": [
    {
     "name": "stdout",
     "output_type": "stream",
     "text": [
      "Extracting MNIST_data\\train-images-idx3-ubyte.gz\n",
      "Extracting MNIST_data\\train-labels-idx1-ubyte.gz\n",
      "Extracting MNIST_data\\t10k-images-idx3-ubyte.gz\n",
      "Extracting MNIST_data\\t10k-labels-idx1-ubyte.gz\n"
     ]
    }
   ],
   "source": [
    "mnist = input_data.read_data_sets('MNIST_data', one_hot=False)"
   ]
  },
  {
   "cell_type": "code",
   "execution_count": 28,
   "metadata": {},
   "outputs": [],
   "source": [
    "DATASET_SIZE = 55000"
   ]
  },
  {
   "cell_type": "code",
   "execution_count": 29,
   "metadata": {},
   "outputs": [],
   "source": [
    "train_size = int(0.2 * DATASET_SIZE)"
   ]
  },
  {
   "cell_type": "code",
   "execution_count": 50,
   "metadata": {},
   "outputs": [
    {
     "data": {
      "text/plain": [
       "['__class__',\n",
       " '__delattr__',\n",
       " '__dict__',\n",
       " '__dir__',\n",
       " '__doc__',\n",
       " '__eq__',\n",
       " '__format__',\n",
       " '__ge__',\n",
       " '__getattribute__',\n",
       " '__gt__',\n",
       " '__hash__',\n",
       " '__init__',\n",
       " '__init_subclass__',\n",
       " '__le__',\n",
       " '__lt__',\n",
       " '__module__',\n",
       " '__ne__',\n",
       " '__new__',\n",
       " '__reduce__',\n",
       " '__reduce_ex__',\n",
       " '__repr__',\n",
       " '__setattr__',\n",
       " '__sizeof__',\n",
       " '__str__',\n",
       " '__subclasshook__',\n",
       " '__weakref__',\n",
       " '_epochs_completed',\n",
       " '_images',\n",
       " '_index_in_epoch',\n",
       " '_labels',\n",
       " '_num_examples',\n",
       " 'epochs_completed',\n",
       " 'images',\n",
       " 'labels',\n",
       " 'next_batch',\n",
       " 'num_examples']"
      ]
     },
     "execution_count": 50,
     "metadata": {},
     "output_type": "execute_result"
    }
   ],
   "source": [
    "dir(mnist.train)"
   ]
  },
  {
   "cell_type": "code",
   "execution_count": 54,
   "metadata": {},
   "outputs": [
    {
     "data": {
      "text/plain": [
       "(55000, 784)"
      ]
     },
     "execution_count": 54,
     "metadata": {},
     "output_type": "execute_result"
    }
   ],
   "source": [
    "mnist.train.images.shape"
   ]
  },
  {
   "cell_type": "code",
   "execution_count": null,
   "metadata": {},
   "outputs": [],
   "source": []
  }
 ],
 "metadata": {
  "kernelspec": {
   "display_name": "Python 2",
   "language": "python",
   "name": "python2"
  },
  "language_info": {
   "codemirror_mode": {
    "name": "ipython",
    "version": 2
   },
   "file_extension": ".py",
   "mimetype": "text/x-python",
   "name": "python",
   "nbconvert_exporter": "python",
   "pygments_lexer": "ipython2",
   "version": "2.7.15"
  }
 },
 "nbformat": 4,
 "nbformat_minor": 2
}
