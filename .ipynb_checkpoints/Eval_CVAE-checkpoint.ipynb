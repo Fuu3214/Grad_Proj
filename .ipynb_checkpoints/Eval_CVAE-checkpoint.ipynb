{
 "cells": [
  {
   "cell_type": "code",
   "execution_count": 1,
   "metadata": {},
   "outputs": [],
   "source": [
    "import tensorflow as tf\n",
    "import numpy as np\n",
    "from tensorflow.examples.tutorials.mnist import input_data\n",
    "import os\n",
    "import vae"
   ]
  },
  {
   "cell_type": "code",
   "execution_count": 2,
   "metadata": {},
   "outputs": [
    {
     "name": "stdout",
     "output_type": "stream",
     "text": [
      "WARNING:tensorflow:From <ipython-input-2-4fefa27d2622>:7: read_data_sets (from tensorflow.contrib.learn.python.learn.datasets.mnist) is deprecated and will be removed in a future version.\n",
      "Instructions for updating:\n",
      "Please use alternatives such as official/mnist/dataset.py from tensorflow/models.\n",
      "WARNING:tensorflow:From /home/xdjf/anaconda3/envs/my_env/lib/python3.6/site-packages/tensorflow/contrib/learn/python/learn/datasets/mnist.py:260: maybe_download (from tensorflow.contrib.learn.python.learn.datasets.base) is deprecated and will be removed in a future version.\n",
      "Instructions for updating:\n",
      "Please write your own downloading logic.\n",
      "WARNING:tensorflow:From /home/xdjf/anaconda3/envs/my_env/lib/python3.6/site-packages/tensorflow/contrib/learn/python/learn/datasets/mnist.py:262: extract_images (from tensorflow.contrib.learn.python.learn.datasets.mnist) is deprecated and will be removed in a future version.\n",
      "Instructions for updating:\n",
      "Please use tf.data to implement this functionality.\n",
      "Extracting MNIST_data/train-images-idx3-ubyte.gz\n",
      "WARNING:tensorflow:From /home/xdjf/anaconda3/envs/my_env/lib/python3.6/site-packages/tensorflow/contrib/learn/python/learn/datasets/mnist.py:267: extract_labels (from tensorflow.contrib.learn.python.learn.datasets.mnist) is deprecated and will be removed in a future version.\n",
      "Instructions for updating:\n",
      "Please use tf.data to implement this functionality.\n",
      "Extracting MNIST_data/train-labels-idx1-ubyte.gz\n",
      "Extracting MNIST_data/t10k-images-idx3-ubyte.gz\n",
      "Extracting MNIST_data/t10k-labels-idx1-ubyte.gz\n",
      "WARNING:tensorflow:From /home/xdjf/anaconda3/envs/my_env/lib/python3.6/site-packages/tensorflow/contrib/learn/python/learn/datasets/mnist.py:290: DataSet.__init__ (from tensorflow.contrib.learn.python.learn.datasets.mnist) is deprecated and will be removed in a future version.\n",
      "Instructions for updating:\n",
      "Please use alternatives such as official/mnist/dataset.py from tensorflow/models.\n"
     ]
    }
   ],
   "source": [
    "dim_x = 784\n",
    "dim_y = 10\n",
    "dim_z = 2\n",
    "n_hidden = 500\n",
    "learn_rate = 1e-3\n",
    "\n",
    "mnist = input_data.read_data_sets('MNIST_data', one_hot=False)\n",
    "num_examples = mnist.train.num_examples\n",
    "n_epochs = 50\n",
    "batch_size = 50\n",
    "total_batch = int(num_examples / batch_size)\n",
    "\n",
    "ADD_NOISE = False\n"
   ]
  },
  {
   "cell_type": "code",
   "execution_count": 29,
   "metadata": {},
   "outputs": [],
   "source": [
    "tf.reset_default_graph()\n",
    "\"\"\" build graph \"\"\"\n",
    "# input placeholders\n",
    "# In denoising-autoencoder, x_hat == x + noise, otherwise x_hat == x\n",
    "x_hat = tf.placeholder(tf.float32, shape=[None, dim_x], name='input_img')\n",
    "x = tf.placeholder(tf.float32, shape=[None, dim_x], name='target_img')\n",
    "y = tf.placeholder(tf.int32, shape=[None], name='target_labels')\n",
    "y_one_hot = tf.one_hot(indices = y, depth=dim_y)\n",
    "\n",
    "# dropout\n",
    "keep_prob = tf.placeholder(tf.float32, name='keep_prob')\n",
    "\n",
    "# input for PMLR\n",
    "z_in = tf.placeholder(tf.float32, shape=[None, dim_z], name='latent_variable')\n",
    "fack_id_in = tf.placeholder(tf.float32, shape=[None, dim_y], name='latent_variable') # condition\n",
    "\n",
    "# network architecture\n",
    "x_, z, loss, neg_marginal_likelihood, KL_divergence = vae.autoencoder(x_hat, x, y_one_hot, dim_x, dim_z, n_hidden, keep_prob)\n",
    "\n",
    "global_step = tf.contrib.framework.get_or_create_global_step()\n",
    "\n",
    "# optimization\n",
    "train_op = tf.train.AdamOptimizer(learn_rate).minimize(loss, global_step=global_step)\n",
    "\n",
    "saver = tf.train.Saver(max_to_keep=3)"
   ]
  },
  {
   "cell_type": "code",
   "execution_count": 42,
   "metadata": {},
   "outputs": [],
   "source": [
    "\n",
    "# model_dir = 'models/cvae01'\n",
    "# model_dir = 'models/cvae'\n",
    "model_dir = 'models/cvaenat'\n",
    "\n",
    "checkpoint = tf.train.latest_checkpoint(model_dir)\n",
    "\n"
   ]
  },
  {
   "cell_type": "code",
   "execution_count": 43,
   "metadata": {},
   "outputs": [],
   "source": [
    "config = tf.ConfigProto()\n",
    "config.log_device_placement=False\n",
    "config.allow_soft_placement=True\n",
    "config.gpu_options.allow_growth=True\n",
    "session = tf.Session(config=config)\n",
    "session.run(tf.global_variables_initializer())"
   ]
  },
  {
   "cell_type": "code",
   "execution_count": 44,
   "metadata": {},
   "outputs": [
    {
     "name": "stdout",
     "output_type": "stream",
     "text": [
      "INFO:tensorflow:Restoring parameters from models/cvaenat/checkpoint-219901\n"
     ]
    }
   ],
   "source": [
    "saver.restore(session, checkpoint)"
   ]
  },
  {
   "cell_type": "code",
   "execution_count": 45,
   "metadata": {},
   "outputs": [],
   "source": [
    "import PIL\n",
    "import matplotlib.pyplot as plt\n",
    "\n",
    "def preprocess(img):\n",
    "    img = np.array(img, dtype = 'float')\n",
    "    img = img.reshape(1, 784)/255\n",
    "    return img\n"
   ]
  },
  {
   "cell_type": "code",
   "execution_count": 73,
   "metadata": {},
   "outputs": [
    {
     "name": "stdout",
     "output_type": "stream",
     "text": [
      "Extracting MNIST_data/train-images-idx3-ubyte.gz\n",
      "Extracting MNIST_data/train-labels-idx1-ubyte.gz\n",
      "Extracting MNIST_data/t10k-images-idx3-ubyte.gz\n",
      "Extracting MNIST_data/t10k-labels-idx1-ubyte.gz\n"
     ]
    }
   ],
   "source": [
    "root = \"./features/01/\"\n",
    "# root = \"./features/02/\"\n",
    "# root = \"./features/nat/\"\n",
    "\n",
    "train_path = root + \"feature_attributions.npy\"\n",
    "\n",
    "feature_attributions = np.load(train_path)\n",
    "mnist = input_data.read_data_sets('MNIST_data', one_hot=False)\n",
    "labels = mnist.train.labels\n",
    "train_total_data = np.column_stack((feature_attributions,labels))"
   ]
  },
  {
   "cell_type": "code",
   "execution_count": 66,
   "metadata": {},
   "outputs": [],
   "source": [
    "path = root + \"adv_attr/\"\n",
    "\n",
    "path_test_imgs = path + \"test_imgs.npy\"\n",
    "path_adv_imgs = path + \"adv_imgs.npy\"\n",
    "path_adv_attr = path + \"adv_attr.npy\"\n",
    "path_test_attr = path + \"test_attr.npy\"\n",
    "path_adv_labels = path + \"adv_labels.npy\"\n",
    "\n",
    "# Setting up the data and the model\n",
    "test_imgs = np.load(path_test_imgs)\n",
    "test_attr = np.load(path_test_attr)\n",
    "adv_imgs = np.load(path_adv_imgs)\n",
    "adv_attr = np.load(path_adv_attr)\n",
    "adv_labels = np.load(path_adv_labels)"
   ]
  },
  {
   "cell_type": "code",
   "execution_count": 67,
   "metadata": {},
   "outputs": [
    {
     "data": {
      "text/plain": [
       "<matplotlib.image.AxesImage at 0x7fb696d69668>"
      ]
     },
     "execution_count": 67,
     "metadata": {},
     "output_type": "execute_result"
    },
    {
     "data": {
      "image/png": "[encoded data removed]",
      "text/plain": [
       "<Figure size 432x288 with 1 Axes>"
      ]
     },
     "metadata": {
      "needs_background": "light"
     },
     "output_type": "display_data"
    }
   ],
   "source": [
    "idx = 0\n",
    "plt.imshow(np.reshape(test_imgs[idx],[28,28]), cmap='Greys_r')"
   ]
  },
  {
   "cell_type": "code",
   "execution_count": 68,
   "metadata": {},
   "outputs": [
    {
     "data": {
      "text/plain": [
       "<matplotlib.image.AxesImage at 0x7fb696cc61d0>"
      ]
     },
     "execution_count": 68,
     "metadata": {},
     "output_type": "execute_result"
    },
    {
     "data": {
      "image/png": "[encoded data removed]",
      "text/plain": [
       "<Figure size 432x288 with 1 Axes>"
      ]
     },
     "metadata": {
      "needs_background": "light"
     },
     "output_type": "display_data"
    }
   ],
   "source": [
    "plt.imshow(np.reshape(test_attr[idx],[28,28]), cmap='Greys_r')"
   ]
  },
  {
   "cell_type": "code",
   "execution_count": 69,
   "metadata": {},
   "outputs": [
    {
     "data": {
      "text/plain": [
       "3"
      ]
     },
     "execution_count": 69,
     "metadata": {},
     "output_type": "execute_result"
    },
    {
     "data": {
      "image/png": "[encoded data removed]",
      "text/plain": [
       "<Figure size 432x288 with 1 Axes>"
      ]
     },
     "metadata": {
      "needs_background": "light"
     },
     "output_type": "display_data"
    }
   ],
   "source": [
    "plt.imshow(np.reshape(adv_imgs[idx],[28,28]), cmap='Greys_r')\n",
    "adv_labels[idx]"
   ]
  },
  {
   "cell_type": "code",
   "execution_count": 70,
   "metadata": {},
   "outputs": [
    {
     "data": {
      "text/plain": [
       "<matplotlib.image.AxesImage at 0x7fb696bf69e8>"
      ]
     },
     "execution_count": 70,
     "metadata": {},
     "output_type": "execute_result"
    },
    {
     "data": {
      "image/png": "[encoded data removed]",
      "text/plain": [
       "<Figure size 432x288 with 1 Axes>"
      ]
     },
     "metadata": {
      "needs_background": "light"
     },
     "output_type": "display_data"
    }
   ],
   "source": [
    "\n",
    "plt.imshow(np.reshape(adv_attr[idx],[28,28]), cmap='Greys_r')\n"
   ]
  },
  {
   "cell_type": "code",
   "execution_count": 71,
   "metadata": {
    "scrolled": true
   },
   "outputs": [
    {
     "name": "stdout",
     "output_type": "stream",
     "text": [
      "10.419521\n",
      "0.00031781197\n"
     ]
    },
    {
     "data": {
      "image/png": "[encoded data removed]",
      "text/plain": [
       "<Figure size 432x288 with 1 Axes>"
      ]
     },
     "metadata": {
      "needs_background": "light"
     },
     "output_type": "display_data"
    }
   ],
   "source": [
    "output,l_tot, l_likelyhood, l_KL = session.run(\n",
    "    (x_, loss, neg_marginal_likelihood, KL_divergence),\n",
    "    feed_dict={x_hat: adv_attr[idx], x: adv_attr[idx], y: [adv_labels[idx]], keep_prob : 1})\n",
    "plt.imshow(np.reshape(output,[28,28]), cmap='Greys_r')\n",
    "print(l_tot)\n",
    "print(l_KL)"
   ]
  },
  {
   "cell_type": "code",
   "execution_count": 72,
   "metadata": {},
   "outputs": [
    {
     "name": "stdout",
     "output_type": "stream",
     "text": [
      "2.867724\n",
      "5.3048134e-05\n"
     ]
    },
    {
     "data": {
      "image/png": "[encoded data removed]",
      "text/plain": [
       "<Figure size 432x288 with 1 Axes>"
      ]
     },
     "metadata": {
      "needs_background": "light"
     },
     "output_type": "display_data"
    }
   ],
   "source": [
    "output,l_tot, l_likelyhood, l_KL = session.run(\n",
    "    (x_, loss, neg_marginal_likelihood, KL_divergence),\n",
    "    feed_dict={x_hat: [test_attr[3]], x: [test_attr[3]], y: [0], keep_prob : 1})\n",
    "plt.imshow(np.reshape(output,[28,28]), cmap='Greys_r')\n",
    "print(l_tot)\n",
    "print(l_KL)"
   ]
  },
  {
   "cell_type": "code",
   "execution_count": 55,
   "metadata": {},
   "outputs": [
    {
     "data": {
      "text/plain": [
       "<matplotlib.image.AxesImage at 0x7fb6970cfd68>"
      ]
     },
     "execution_count": 55,
     "metadata": {},
     "output_type": "execute_result"
    },
    {
     "data": {
      "image/png": "[encoded data removed]",
      "text/plain": [
       "<Figure size 432x288 with 1 Axes>"
      ]
     },
     "metadata": {
      "needs_background": "light"
     },
     "output_type": "display_data"
    }
   ],
   "source": [
    "plt.imshow(np.reshape(test_attr[3],[28,28]), cmap='Greys_r')"
   ]
  },
  {
   "cell_type": "code",
   "execution_count": 33,
   "metadata": {},
   "outputs": [
    {
     "name": "stdout",
     "output_type": "stream",
     "text": [
      "-0.025704944506287575\n",
      "0.04489503055810928\n",
      "0.0012582271579721718\n",
      "0.005725333646093887\n",
      "=========\n",
      "-0.031884578956599796\n",
      "0.07830360531806946\n",
      "0.001224845877229283\n",
      "0.00769370381283527\n",
      "=========\n",
      "-0.011822069577662742\n",
      "0.03824242204427719\n",
      "0.001263003893283358\n",
      "0.003963265226813654\n",
      "=========\n",
      "-0.03400597348809242\n",
      "0.04737090838226799\n",
      "0.0012505874052547348\n",
      "0.00786913808294079\n",
      "=========\n",
      "-0.028259528492321717\n",
      "0.07380343228578568\n",
      "0.0012496636018562595\n",
      "0.006625515827281419\n",
      "=========\n",
      "-0.0508244051886404\n",
      "0.043038010597229004\n",
      "0.0011357226502350457\n",
      "0.006241348886724122\n",
      "=========\n",
      "-0.021620732932395526\n",
      "0.04118924215435982\n",
      "0.0012675952950494764\n",
      "0.004932503386176967\n",
      "=========\n",
      "-0.03506501127310635\n",
      "0.043468259209614946\n",
      "0.0012705020341793403\n",
      "0.006113994900514346\n",
      "=========\n",
      "-0.0327608620682911\n",
      "0.05086866393685341\n",
      "0.001250235196697536\n",
      "0.00715725540801362\n",
      "=========\n",
      "-0.03403965771745954\n",
      "0.0690121054649353\n",
      "0.001269183783034233\n",
      "0.007331307171430382\n",
      "=========\n",
      "-0.0328494051316337\n",
      "0.04438314959406853\n",
      "0.001262851341400558\n",
      "0.0062666116792740156\n",
      "=========\n",
      "-0.021594752633340767\n",
      "0.035575881600379944\n",
      "0.0012791655334156494\n",
      "0.004714268720504611\n",
      "=========\n",
      "-0.03780533223155924\n",
      "0.05347590893507004\n",
      "0.0011401104597975721\n",
      "0.006729666034928978\n",
      "=========\n",
      "-0.031223848649734043\n",
      "0.046455688774585724\n",
      "0.0011253133276549667\n",
      "0.006745932456913221\n",
      "=========\n",
      "-0.02649405042073205\n",
      "0.04607561603188515\n",
      "0.0012728212071320658\n",
      "0.004784591149574518\n",
      "=========\n",
      "-0.03067093555258449\n",
      "0.03681822866201401\n",
      "0.001250946732776444\n",
      "0.00563195719157177\n",
      "=========\n",
      "-0.020035390915823292\n",
      "0.04198285620058684\n",
      "0.001134282443823292\n",
      "0.005566354467699054\n",
      "=========\n",
      "-0.024916663136101535\n",
      "0.05127140964835177\n",
      "0.0012570673216633847\n",
      "0.005774329555983465\n",
      "=========\n",
      "-0.019004227593541145\n",
      "0.026120361429671\n",
      "0.0012700406512836254\n",
      "0.004192361225528524\n",
      "=========\n",
      "-0.034706058596931655\n",
      "0.06821150332689285\n",
      "0.001138448632823001\n",
      "0.006245491209948459\n",
      "=========\n",
      "-0.02473957545396832\n",
      "0.0419415608048439\n",
      "0.0011291821533009957\n",
      "0.006528568338804644\n",
      "=========\n",
      "-0.030867430678884755\n",
      "0.0526680126786232\n",
      "0.0010901710543369523\n",
      "0.005769054335169406\n",
      "=========\n",
      "-0.03643415624550217\n",
      "0.0619331646718441\n",
      "0.0012158309697744558\n",
      "0.007617868443060115\n",
      "=========\n",
      "-0.048421312996736354\n",
      "0.043741703033447266\n",
      "0.0012552487317659213\n",
      "0.006664996565775424\n",
      "=========\n",
      "-0.027275181871160844\n",
      "0.05036715418100357\n",
      "0.0012553680057263911\n",
      "0.005893690980929465\n",
      "=========\n",
      "-0.034644090362631275\n",
      "0.0397990457713604\n",
      "0.0012723849822718388\n",
      "0.006798584554979965\n",
      "=========\n",
      "-0.026587969460904137\n",
      "0.04242335128086605\n",
      "0.0012507921640233564\n",
      "0.005310628918824595\n",
      "=========\n",
      "-0.043833208704428195\n",
      "0.04579613357782364\n",
      "0.00126777297001056\n",
      "0.006443188769607824\n",
      "=========\n",
      "-0.03709746942191394\n",
      "0.04200234264135361\n",
      "0.001088208081800539\n",
      "0.00806583351287518\n",
      "=========\n",
      "-0.026351550181753502\n",
      "0.033159153054385805\n",
      "0.001259150419716599\n",
      "0.004370230858206352\n",
      "=========\n",
      "-0.03307769971814768\n",
      "0.057916298920019926\n",
      "0.0012649072482646918\n",
      "0.007266788638614201\n",
      "=========\n",
      "-0.021687622042171124\n",
      "0.047873012792535974\n",
      "0.0012669538495588958\n",
      "0.004701628811768429\n",
      "=========\n",
      "-0.05290884113283356\n",
      "0.07702337950468063\n",
      "0.0010799139624167676\n",
      "0.007964784784903001\n",
      "=========\n",
      "-0.028197119012475014\n",
      "0.041035156697034836\n",
      "0.0012121801169946759\n",
      "0.005836792612785918\n",
      "=========\n",
      "-0.06929398559805788\n",
      "0.062439508736133575\n",
      "0.001259955657970997\n",
      "0.0076973911970464525\n",
      "=========\n",
      "-0.03270787365114192\n",
      "0.03819737583398819\n",
      "0.0006470671110452274\n",
      "0.004939821332996883\n",
      "=========\n",
      "-0.034133868801045075\n",
      "0.06856156140565872\n",
      "0.0010531970095615524\n",
      "0.006734077140960032\n",
      "=========\n",
      "-0.03239737970489731\n",
      "0.04845280945301056\n",
      "0.001268781739558857\n",
      "0.004692322894616731\n",
      "=========\n",
      "-0.026427457055785215\n",
      "0.06462958455085754\n",
      "0.0012759754713247925\n",
      "0.00552896754796532\n",
      "=========\n",
      "-0.01929805961125286\n",
      "0.04590762034058571\n",
      "0.0012660910217369204\n",
      "0.004666409536086874\n",
      "=========\n",
      "-0.018675072560266348\n",
      "0.07206621766090393\n",
      "0.0012659538058503986\n",
      "0.00441689193858608\n",
      "=========\n",
      "-0.0345435946762338\n",
      "0.056848663836717606\n",
      "0.0010786957090172997\n",
      "0.0070983236035863885\n",
      "=========\n",
      "-0.028144217077182176\n",
      "0.04034451116961546\n",
      "0.001261654412387197\n",
      "0.0059830840609707\n",
      "=========\n",
      "-0.03617367116098724\n",
      "0.04179764767885907\n",
      "0.0006414869388517142\n",
      "0.005159655008922464\n",
      "=========\n",
      "-0.03535115344733519\n",
      "0.06363832205533981\n",
      "0.0010880831373887947\n",
      "0.0069333183688691956\n",
      "=========\n",
      "-0.01700522677603584\n",
      "0.045767341798980565\n",
      "0.00127268216706565\n",
      "0.004859730305218914\n",
      "=========\n",
      "-0.01723131528787336\n",
      "0.046461619436740875\n",
      "0.00127403758429132\n",
      "0.004626900928279883\n",
      "=========\n",
      "-0.018245072363381354\n",
      "0.05804344266653061\n",
      "0.0012558798968383363\n",
      "0.004914945708211956\n",
      "=========\n",
      "-0.06286696744215092\n",
      "0.057691022753715515\n",
      "0.0012693949136587195\n",
      "0.008544170065249662\n",
      "=========\n",
      "-0.02896785815277436\n",
      "0.04155043140053749\n",
      "0.0012462959034858596\n",
      "0.00538338993369786\n",
      "=========\n"
     ]
    }
   ],
   "source": [
    "for idx in range(50):\n",
    "    print(np.min(adv_attr[idx]))\n",
    "    print(np.max(adv_attr[idx]))\n",
    "    print(np.mean(adv_attr[idx]))\n",
    "    print(np.std(adv_attr[idx]))\n",
    "    print('=========')"
   ]
  },
  {
   "cell_type": "code",
   "execution_count": null,
   "metadata": {},
   "outputs": [],
   "source": []
  }
 ],
 "metadata": {
  "kernelspec": {
   "display_name": "Python 3",
   "language": "python",
   "name": "python3"
  },
  "language_info": {
   "codemirror_mode": {
    "name": "ipython",
    "version": 3
   },
   "file_extension": ".py",
   "mimetype": "text/x-python",
   "name": "python",
   "nbconvert_exporter": "python",
   "pygments_lexer": "ipython3",
   "version": "3.6.8"
  }
 },
 "nbformat": 4,
 "nbformat_minor": 2
}
