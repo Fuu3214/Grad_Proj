{
 "cells": [
  {
   "cell_type": "code",
   "execution_count": 1,
   "metadata": {},
   "outputs": [],
   "source": [
    "\"\"\"Evaluates feature attributes of a adversarialy trained model against adv attack\"\"\"\n",
    "from __future__ import absolute_import\n",
    "from __future__ import division\n",
    "from __future__ import print_function\n",
    "\n",
    "from datetime import datetime\n",
    "import json\n",
    "import math\n",
    "import os\n",
    "import sys\n",
    "import time\n",
    "\n",
    "import tensorflow as tf\n",
    "from tensorflow.examples.tutorials.mnist import input_data\n",
    "\n",
    "import PIL\n",
    "import matplotlib.pyplot as plt\n",
    "from numpy import linalg as LA\n",
    "import numpy as np\n",
    "\n",
    "from model import Model\n",
    "\n",
    "from tensorflow.python import pywrap_tensorflow\n",
    "from tensorflow.python.ops.parallel_for.gradients import jacobian\n"
   ]
  },
  {
   "cell_type": "code",
   "execution_count": 20,
   "metadata": {},
   "outputs": [],
   "source": [
    "model_dir = \"./models/nat\"\n",
    "\n",
    "num_examples = 10000\n",
    "# eval_batch_size = 200\n"
   ]
  },
  {
   "cell_type": "code",
   "execution_count": 3,
   "metadata": {},
   "outputs": [
    {
     "name": "stdout",
     "output_type": "stream",
     "text": [
      "WARNING:tensorflow:From /home/xdjf/anaconda3/envs/my_env/lib/python3.6/site-packages/tensorflow/python/framework/op_def_library.py:263: colocate_with (from tensorflow.python.framework.ops) is deprecated and will be removed in a future version.\n",
      "Instructions for updating:\n",
      "Colocations handled automatically by placer.\n"
     ]
    }
   ],
   "source": [
    "tf.reset_default_graph()\n",
    "model = Model()\n",
    "checkpoint = tf.train.latest_checkpoint(model_dir)\n",
    "reader=pywrap_tensorflow.NewCheckpointReader(checkpoint)\n",
    "saver = tf.train.Saver()"
   ]
  },
  {
   "cell_type": "code",
   "execution_count": 4,
   "metadata": {},
   "outputs": [
    {
     "name": "stdout",
     "output_type": "stream",
     "text": [
      "WARNING:tensorflow:From /home/xdjf/anaconda3/envs/my_env/lib/python3.6/site-packages/tensorflow/python/training/saver.py:1266: checkpoint_exists (from tensorflow.python.training.checkpoint_management) is deprecated and will be removed in a future version.\n",
      "Instructions for updating:\n",
      "Use standard file APIs to check for files with this prefix.\n",
      "INFO:tensorflow:Restoring parameters from ./models/nat/checkpoint-7800\n"
     ]
    }
   ],
   "source": [
    "config = tf.ConfigProto()\n",
    "config.log_device_placement=False\n",
    "config.allow_soft_placement=True\n",
    "config.gpu_options.allow_growth=True\n",
    "\n",
    "session = tf.Session(config=config)\n",
    "session.run(tf.global_variables_initializer())\n",
    "saver.restore(session, checkpoint)"
   ]
  },
  {
   "cell_type": "code",
   "execution_count": 15,
   "metadata": {},
   "outputs": [
    {
     "name": "stdout",
     "output_type": "stream",
     "text": [
      "Extracting MNIST_data/train-images-idx3-ubyte.gz\n",
      "Extracting MNIST_data/train-labels-idx1-ubyte.gz\n",
      "Extracting MNIST_data/t10k-images-idx3-ubyte.gz\n",
      "Extracting MNIST_data/t10k-labels-idx1-ubyte.gz\n"
     ]
    }
   ],
   "source": [
    "test_path = \"./adv_test/pgd/xent/nat/03.npy\"\n",
    "adv_test = np.load(test_path)\n",
    "\n",
    "mnist = input_data.read_data_sets('MNIST_data', one_hot=False)\n",
    "true_labels = mnist.test.labels\n",
    "\n",
    "# train_total_data = np.column_stack((adv_test,true_labels))"
   ]
  },
  {
   "cell_type": "code",
   "execution_count": 16,
   "metadata": {},
   "outputs": [],
   "source": [
    "labeled_pred = model.softmax_layer[:,model.y_input[0]]\n",
    "grad = tf.gradients(labeled_pred, model.x_input)\n",
    "def integrated_gradient(img, target_label_index, steps = 50, baseline=None):\n",
    "    if baseline is None:\n",
    "        baseline = 0*img\n",
    "    assert(baseline.shape == img.shape)\n",
    "    steps=steps\n",
    "\n",
    "    # Scale input and compute gradients.\n",
    "    scaled_inputs = [baseline + (float(i)/steps)*(img-baseline) for i in range(0, steps+1)]\n",
    "\n",
    "    gradient = session.run(grad, feed_dict = {model.x_input:np.squeeze(scaled_inputs),model.y_input:target_label_index})\n",
    "    avg_grads = np.average(gradient[0][:-1], axis=0)\n",
    "    integrated_gradients = (img-baseline)*avg_grads  # shape: <inp.shape>\n",
    "    return integrated_gradients"
   ]
  },
  {
   "cell_type": "code",
   "execution_count": 17,
   "metadata": {},
   "outputs": [],
   "source": [
    "feature_attributions = []\n",
    "for i in range(num_examples):\n",
    "    x = adv_test[i]\n",
    "    y = session.run(model.y_pred, feed_dict={model.x_input: [adv_test[idx]]})[0]\n",
    "    feature_attributions.append(integrated_gradient(x, [y]))"
   ]
  },
  {
   "cell_type": "code",
   "execution_count": 18,
   "metadata": {},
   "outputs": [
    {
     "name": "stdout",
     "output_type": "stream",
     "text": [
      "[3]\n"
     ]
    },
    {
     "data": {
      "image/png": "[encoded data removed]",
      "text/plain": [
       "<Figure size 432x288 with 1 Axes>"
      ]
     },
     "metadata": {
      "needs_background": "light"
     },
     "output_type": "display_data"
    }
   ],
   "source": [
    "idx = 0\n",
    "plt.imshow(np.resize(adv_test[idx],[28,28]), cmap='Greys_r')\n",
    "print(session.run(model.y_pred, feed_dict={model.x_input: [adv_test[idx]], model.y_input: [mnist.train.labels[idx]]}))"
   ]
  },
  {
   "cell_type": "code",
   "execution_count": 19,
   "metadata": {},
   "outputs": [
    {
     "data": {
      "text/plain": [
       "<matplotlib.image.AxesImage at 0x7fed64320198>"
      ]
     },
     "execution_count": 19,
     "metadata": {},
     "output_type": "execute_result"
    },
    {
     "data": {
      "image/png": "[encoded data removed]",
      "text/plain": [
       "<Figure size 432x288 with 1 Axes>"
      ]
     },
     "metadata": {
      "needs_background": "light"
     },
     "output_type": "display_data"
    }
   ],
   "source": [
    "plt.imshow(np.resize(feature_attributions[0],[28,28]), cmap='Greys_r')"
   ]
  },
  {
   "cell_type": "code",
   "execution_count": null,
   "metadata": {},
   "outputs": [],
   "source": [
    "print('Storing examples')\n",
    "path = \"./features/02/feature_attributions.npy\"\n",
    "feature_attributions = np.asarray(feature_attributions)\n",
    "np.save(path, feature_attributions)\n",
    "print('Examples stored in {}'.format(path))"
   ]
  }
 ],
 "metadata": {
  "kernelspec": {
   "display_name": "Python 3",
   "language": "python",
   "name": "python3"
  },
  "language_info": {
   "codemirror_mode": {
    "name": "ipython",
    "version": 3
   },
   "file_extension": ".py",
   "mimetype": "text/x-python",
   "name": "python",
   "nbconvert_exporter": "python",
   "pygments_lexer": "ipython3",
   "version": "3.6.8"
  }
 },
 "nbformat": 4,
 "nbformat_minor": 2
}
